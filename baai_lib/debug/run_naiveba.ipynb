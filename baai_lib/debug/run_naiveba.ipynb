{
 "cells": [
  {
   "cell_type": "code",
   "execution_count": null,
   "id": "f444eea9",
   "metadata": {},
   "outputs": [
    {
     "name": "stderr",
     "output_type": "stream",
     "text": [
      "/home/dzigen/miniconda3/envs/baai_env/lib/python3.13/site-packages/tqdm/auto.py:21: TqdmWarning: IProgress not found. Please update jupyter and ipywidgets. See https://ipywidgets.readthedocs.io/en/stable/user_install.html\n",
      "  from .autonotebook import tqdm as notebook_tqdm\n"
     ]
    }
   ],
   "source": [
    "import sys\n",
    "from pprint import pprint\n",
    "from time import sleep\n",
    "sys.path.insert(0, \"../\")\n",
    "\n",
    "from src import BusinessAnalystAI, BusinessAnalystAIConfig\n",
    "from src.reasoner.naive import NaiveBAReasonerConfig\n",
    "from src.reasoner.naive.utils import NaiveReasonerStatus, NaiveReasonerState, NaiveGlobalSignal, NaiveStateSignal\n",
    "from src.reasoner.weak.utils import WeakReasonerStatus, WeakReasonerState, WeakGlobalSignal, WeakStateSignal\n",
    "from src.reasoner.utils import UserResponse"
   ]
  },
  {
   "cell_type": "code",
   "execution_count": null,
   "id": "f7910f53",
   "metadata": {},
   "outputs": [],
   "source": [
    "ba_ai = BusinessAnalystAI(config=BusinessAnalystAIConfig(reasoner_name='naive', reasoner_config=NaiveBAReasonerConfig()))"
   ]
  },
  {
   "cell_type": "code",
   "execution_count": null,
   "id": "1f093d90",
   "metadata": {},
   "outputs": [],
   "source": [
    "ba_ai.reasoner.change_mode_to(new_mode='prod')"
   ]
  },
  {
   "cell_type": "code",
   "execution_count": null,
   "id": "a9c00e2a",
   "metadata": {},
   "outputs": [
    {
     "data": {
      "text/plain": [
       "'stub'"
      ]
     },
     "execution_count": 3,
     "metadata": {},
     "output_type": "execute_result"
    }
   ],
   "source": [
    "ba_ai.reasoner.config.mode"
   ]
  },
  {
   "cell_type": "code",
   "execution_count": null,
   "id": "72d7253a",
   "metadata": {},
   "outputs": [],
   "source": [
    "ba_ai.reset()"
   ]
  },
  {
   "cell_type": "code",
   "execution_count": null,
   "id": "4e6849df",
   "metadata": {},
   "outputs": [],
   "source": [
    "while True:\n",
    "    sleep(1)\n",
    "    if ba_ai.reasoner.REASONER_STATUS == NaiveReasonerStatus.waiting_interaction:\n",
    "        output = ba_ai.reasoner.prepare_response()\n",
    "        print(output)\n",
    "    elif ba_ai.reasoner.REASONER_STATUS == NaiveReasonerStatus.waiting_response:\n",
    "        user_text = input()\n",
    "        user_response = UserResponse()\n",
    "        if user_text == \"BREAK\":\n",
    "            user_response.signal = NaiveGlobalSignal.next_stage\n",
    "        elif user_text == \"CONTINUE\":\n",
    "            user_response.signal = NaiveStateSignal.continue_operation\n",
    "        else:\n",
    "            user_response.user_text = user_text\n",
    "        print(user_response)\n",
    "        ba_ai.reasoner.process_response(user_response)\n",
    "    elif ba_ai.reasoner.REASONER_STATE == NaiveReasonerState.done:\n",
    "        break\n",
    "    else:\n",
    "        raise ValueError"
   ]
  },
  {
   "cell_type": "code",
   "execution_count": null,
   "id": "0459beae",
   "metadata": {},
   "outputs": [
    {
     "name": "stdout",
     "output_type": "stream",
     "text": [
      "WeakReasonerState.scenarios_ccrud\n",
      "WeakReasonerStatus.processing\n"
     ]
    }
   ],
   "source": [
    "print(ba_ai.reasoner.REASONER_STATE)\n",
    "print(ba_ai.reasoner.REASONER_STATUS)"
   ]
  },
  {
   "cell_type": "code",
   "execution_count": null,
   "id": "843aff77",
   "metadata": {},
   "outputs": [
    {
     "ename": "AttributeError",
     "evalue": "'WeakBAReasoner' object has no attribute 'reqspec_model'",
     "output_type": "error",
     "traceback": [
      "\u001b[31m---------------------------------------------------------------------------\u001b[39m",
      "\u001b[31mAttributeError\u001b[39m                            Traceback (most recent call last)",
      "\u001b[36mCell\u001b[39m\u001b[36m \u001b[39m\u001b[32mIn[12]\u001b[39m\u001b[32m, line 1\u001b[39m\n\u001b[32m----> \u001b[39m\u001b[32m1\u001b[39m pprint(\u001b[43mba_ai\u001b[49m\u001b[43m.\u001b[49m\u001b[43mreasoner\u001b[49m\u001b[43m.\u001b[49m\u001b[43mreqspec_model\u001b[49m.specification_struct)\n",
      "\u001b[31mAttributeError\u001b[39m: 'WeakBAReasoner' object has no attribute 'reqspec_model'"
     ]
    }
   ],
   "source": [
    "pprint(ba_ai.reasoner.reqspec_model.specification_struct)"
   ]
  },
  {
   "cell_type": "code",
   "execution_count": null,
   "id": "ca97ec54",
   "metadata": {},
   "outputs": [
    {
     "name": "stdout",
     "output_type": "stream",
     "text": [
      "# Первичный список требований\n",
      "\n",
      "## Функциональные требования\n",
      "\n",
      "* Функциональное требование №1 (ФТ1.1.1)\n",
      "* Функциональное требование №2 (ФТ1.1.2)\n",
      "* Функциональное требование №1 (ФТ1.2.1)\n",
      "* Функциональное требование №2 (ФТ1.2.2)\n",
      "* Функциональное требование №1 (ФТ2.3.1)\n",
      "* Функциональное требование №2 (ФТ2.3.2)\n",
      "\n",
      "## Ограничения\n",
      "\n",
      "* Нефункциональное требование №1 (НФТ1.1.1)\n",
      "* Нефункциональное требование №2 (НФТ1.1.2)\n",
      "* Нефункциональное требование №1 (НФТ1.2.1)\n",
      "* Нефункциональное требование №2 (НФТ1.2.2)\n",
      "* Нефункциональное требование №1 (НФТ2.3.1)\n",
      "* Нефункциональное требование №2 (НФТ2.3.2)\n",
      "\n",
      "# Модели требований\n",
      "\n",
      "## Модели пользователей системы\n",
      "\n",
      "Виды пользователей:\n",
      "\n",
      "* Роль #1\n",
      "* Роль #2\n",
      "\n",
      "## Функциональная модель\n",
      "\n",
      "Сценарий 1.1\n",
      "Пример сценария\n",
      "\n",
      "Сценарий 1.2\n",
      "Пример сценария\n",
      "\n",
      "Сценарий 2.3\n",
      "Пример сценария\n"
     ]
    }
   ],
   "source": [
    "print(ba_ai.get_task_description())"
   ]
  },
  {
   "cell_type": "code",
   "execution_count": null,
   "id": "9b5942b3",
   "metadata": {},
   "outputs": [],
   "source": []
  }
 ],
 "metadata": {
  "kernelspec": {
   "display_name": "baai_env",
   "language": "python",
   "name": "python3"
  },
  "language_info": {
   "codemirror_mode": {
    "name": "ipython",
    "version": 3
   },
   "file_extension": ".py",
   "mimetype": "text/x-python",
   "name": "python",
   "nbconvert_exporter": "python",
   "pygments_lexer": "ipython3",
   "version": "3.13.5"
  }
 },
 "nbformat": 4,
 "nbformat_minor": 5
}
