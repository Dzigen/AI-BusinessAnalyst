{
 "cells": [
  {
   "cell_type": "code",
   "execution_count": 1,
   "id": "ff8b60ed",
   "metadata": {},
   "outputs": [
    {
     "name": "stderr",
     "output_type": "stream",
     "text": [
      "/home/dzigen/miniconda3/envs/baai_env/lib/python3.13/site-packages/tqdm/auto.py:21: TqdmWarning: IProgress not found. Please update jupyter and ipywidgets. See https://ipywidgets.readthedocs.io/en/stable/user_install.html\n",
      "  from .autonotebook import tqdm as notebook_tqdm\n"
     ]
    }
   ],
   "source": [
    "import sys\n",
    "from pprint import pprint\n",
    "from time import sleep\n",
    "sys.path.insert(0, \"../\")\n",
    "\n",
    "from src.reasoner.weak.utils import WeakReasonerStatus, WeakReasonerState, WeakGlobalSignal, WeakStateSignal\n",
    "from src.reasoner.utils import UserResponse\n",
    "\n",
    "from src.specification_model import ReqSpecificationModel\n",
    "from src.specification_model.utils import UserStory, Scenario, FunctionalRequirement, \\\n",
    "    FunctionalRestriction, SystemRequirement, SystemRestriction\n",
    "\n",
    "from src.reasoner.weak.states_handlers.taskg_communicator import TaskGeneralCommunicator\n",
    "from src.reasoner.weak.states_handlers.us_communicator import UserStoriesCommunicator\n",
    "from src.reasoner.weak.states_handlers.bp_communicator import BusinessProcessesCommunicator\n",
    "from src.reasoner.weak.states_handlers.roles_communicator import RolesCommunicator\n",
    "from src.reasoner.weak.states_handlers.scenarios_communicator import ScenariosCommunicator\n",
    "from src.reasoner.weak.states_handlers.freq_communicator import FuncRequirementsCommunicator\n",
    "from src.reasoner.weak.states_handlers.sreq_communicator import SysRequirementsCommunicator\n",
    "from src.reasoner.weak.states_handlers.frestr_communicator import FuncRestrictionsCommunicator\n",
    "from src.reasoner.weak.states_handlers.srestr_communicator import SysRestrictionsCommunicator"
   ]
  },
  {
   "cell_type": "code",
   "execution_count": 2,
   "id": "d16ae944",
   "metadata": {},
   "outputs": [],
   "source": [
    "reqspec_model = ReqSpecificationModel()"
   ]
  },
  {
   "cell_type": "markdown",
   "id": "0de2101d",
   "metadata": {},
   "source": [
    "### TaskGeneralCommunicator"
   ]
  },
  {
   "cell_type": "code",
   "execution_count": 3,
   "id": "25545e38",
   "metadata": {},
   "outputs": [],
   "source": [
    "tg_comm = TaskGeneralCommunicator(reqspec_model, mode='stub')"
   ]
  },
  {
   "cell_type": "code",
   "execution_count": 4,
   "id": "6fbcc14f",
   "metadata": {},
   "outputs": [],
   "source": [
    "tg_comm.reset()"
   ]
  },
  {
   "cell_type": "code",
   "execution_count": 5,
   "id": "e4389323",
   "metadata": {},
   "outputs": [
    {
     "name": "stdout",
     "output_type": "stream",
     "text": [
      "TGClarifierCurrentState(base_state=<TaskGeneralCommunicatorState.init: 0>,\n",
      "                        askq_state=<TGCAskingState.init: 0>,\n",
      "                        tcls_state=<TGCTaskClassifyingState.init: 0>,\n",
      "                        iextr_state=<TGCInfoExtractingState.init: 0>)\n"
     ]
    }
   ],
   "source": [
    "pprint(tg_comm.STATE)"
   ]
  },
  {
   "cell_type": "code",
   "execution_count": 7,
   "id": "b1562f52",
   "metadata": {},
   "outputs": [
    {
     "name": "stdout",
     "output_type": "stream",
     "text": [
      "BAResponse(ba_text='Сейчас я задам вам несколько общих вопросов, чтобы лучше понять задачу.', available_state_signals=[], available_global_signals=[], user_base_answer=None, is_userinput_locked=True)\n",
      "BAResponse(ba_text='Опишите вашу задачу простыми словами.', available_state_signals=[], available_global_signals=[], user_base_answer=None, is_userinput_locked=False)\n",
      "UserResponse(user_text='1', signal=None)\n",
      "BAResponse(ba_text='Какую проблему вы хотите решить с помощью продукта?', available_state_signals=[], available_global_signals=[], user_base_answer=None, is_userinput_locked=False)\n",
      "UserResponse(user_text='2', signal=None)\n",
      "BAResponse(ba_text='Какой результат вы ожидаете? (Что должно быть на выходе?)', available_state_signals=[], available_global_signals=[SignalInfo(signal=<WeakGlobalSignal.next_stage: 0>, shortcut='Перейти на следующую стадию', description=None)], user_base_answer=None, is_userinput_locked=False)\n",
      "UserResponse(user_text=None, signal=<WeakGlobalSignal.next_stage: 0>)\n",
      "BAResponse(ba_text='Анализирую описание задачи.', available_state_signals=[], available_global_signals=[], user_base_answer=None, is_userinput_locked=True)\n",
      "BAResponse(ba_text='По результатам анализа, генерация технического задания по вашему описанию поддерживается.', available_state_signals=[], available_global_signals=[], user_base_answer=None, is_userinput_locked=True)\n",
      "BAResponse(ba_text='Процесс анализа завершён.', available_state_signals=[], available_global_signals=[], user_base_answer=None, is_userinput_locked=True)\n",
      "BAResponse(ba_text='Начинаю формирование секции технического задания с общей информацией по проекту.', available_state_signals=[], available_global_signals=[], user_base_answer=None, is_userinput_locked=True)\n",
      "BAResponse(ba_text='Формирую раздел ТЗ с описанием назначение проекта.', available_state_signals=[], available_global_signals=[], user_base_answer=None, is_userinput_locked=True)\n",
      "BAResponse(ba_text='Раздел сформирован.', available_state_signals=[], available_global_signals=[], user_base_answer=None, is_userinput_locked=True)\n",
      "BAResponse(ba_text='Формирую раздел ТЗ с описанием основных задач в рамках проекта.', available_state_signals=[], available_global_signals=[], user_base_answer=None, is_userinput_locked=True)\n",
      "BAResponse(ba_text='Раздел сформирован.', available_state_signals=[], available_global_signals=[], user_base_answer=None, is_userinput_locked=True)\n",
      "BAResponse(ba_text='Формирую раздел ТЗ с описанием интеграционных моментов.', available_state_signals=[], available_global_signals=[], user_base_answer=None, is_userinput_locked=True)\n",
      "BAResponse(ba_text='Раздел сформирован.', available_state_signals=[], available_global_signals=[], user_base_answer=None, is_userinput_locked=True)\n",
      "BAResponse(ba_text='Cекция с общей информацией по проекту сформирована.', available_state_signals=[], available_global_signals=[], user_base_answer=None, is_userinput_locked=True)\n",
      "BAResponse(ba_text='Перейдём к уточнению деталей.', available_state_signals=[], available_global_signals=[], user_base_answer=None, is_userinput_locked=True)\n"
     ]
    }
   ],
   "source": [
    "cur_status = WeakReasonerStatus.waiting_interaction\n",
    "while True:\n",
    "    sleep(1)\n",
    "    if cur_status == WeakReasonerStatus.waiting_interaction:\n",
    "        ba_response, cur_status, done_state = tg_comm.prepare_response()\n",
    "        print(ba_response)\n",
    "\n",
    "    elif cur_status == WeakReasonerStatus.waiting_response:\n",
    "        user_text = input()\n",
    "        user_response = UserResponse()\n",
    "        if user_text == \"BREAK\":\n",
    "            user_response.signal = WeakGlobalSignal.next_stage\n",
    "        else:\n",
    "            user_response.user_text = user_text\n",
    "        print(user_response)\n",
    "        tg_comm.process_response(user_response)\n",
    "        cur_status = WeakReasonerStatus.waiting_interaction\n",
    "\n",
    "    elif cur_status == WeakReasonerStatus.done:\n",
    "        break\n",
    "    else:\n",
    "        raise ValueError"
   ]
  },
  {
   "cell_type": "code",
   "execution_count": 8,
   "id": "a6ae0030",
   "metadata": {},
   "outputs": [
    {
     "name": "stdout",
     "output_type": "stream",
     "text": [
      "DialogueHistory(sequence=[Response(role='ba',\n",
      "                                   text='Опишите вашу задачу простыми словами.',\n",
      "                                   signal=None),\n",
      "                          Response(role='user', text='12', signal=None),\n",
      "                          Response(role='ba',\n",
      "                                   text='Какую проблему вы хотите решить с '\n",
      "                                        'помощью продукта?',\n",
      "                                   signal=None),\n",
      "                          Response(role='user', text='23', signal=None),\n",
      "                          Response(role='ba',\n",
      "                                   text='Какой результат вы ожидаете? (Что '\n",
      "                                        'должно быть на выходе?)',\n",
      "                                   signal=None),\n",
      "                          Response(role='user', text='34', signal=None),\n",
      "                          Response(role='ba',\n",
      "                                   text='Кто будет пользоваться продуктом? '\n",
      "                                        '(Целевая аудитория)',\n",
      "                                   signal=None),\n",
      "                          Response(role='user', text='45', signal=None),\n",
      "                          Response(role='ba',\n",
      "                                   text='Есть ли предпочтения по технологиям '\n",
      "                                        'или ограничения?',\n",
      "                                   signal=None),\n",
      "                          Response(role='user', text='56', signal=None),\n",
      "                          Response(role='ba',\n",
      "                                   text='Какие данные уже есть, и какие данные '\n",
      "                                        'нужно собирать?',\n",
      "                                   signal=None),\n",
      "                          Response(role='user', text='67', signal=None),\n",
      "                          Response(role='ba',\n",
      "                                   text='Есть ли интеграции с другими '\n",
      "                                        'системами?',\n",
      "                                   signal=None),\n",
      "                          Response(role='user', text='78', signal=None),\n",
      "                          Response(role='ba',\n",
      "                                   text='Какие есть дополнительные пожелания '\n",
      "                                        'или требования?',\n",
      "                                   signal=None),\n",
      "                          Response(role='user', text='89', signal=None)])\n"
     ]
    }
   ],
   "source": [
    "pprint(reqspec_model.states_valuable_history[WeakReasonerState.task_clarifying]['general_qa'])"
   ]
  },
  {
   "cell_type": "markdown",
   "id": "aaffb22d",
   "metadata": {},
   "source": [
    "###  UserStoriesCommunicator"
   ]
  },
  {
   "cell_type": "code",
   "execution_count": 7,
   "id": "98563441",
   "metadata": {},
   "outputs": [],
   "source": [
    "us_comm = UserStoriesCommunicator(reqspec_model, mode='stub')"
   ]
  },
  {
   "cell_type": "code",
   "execution_count": 8,
   "id": "ffd2b02e",
   "metadata": {},
   "outputs": [
    {
     "name": "stdout",
     "output_type": "stream",
     "text": [
      "USClarifierCurrentState(base_state=<USClarifierState.init: 0>,\n",
      "                        usextr_state=<USExtractingState.init: 0>,\n",
      "                        usadd_state=<USAddState.init: 0>,\n",
      "                        usdelete_state=<USDeleteState.init: 0>,\n",
      "                        usedit_state=<USEditState.init: 0>)\n"
     ]
    }
   ],
   "source": [
    "pprint(us_comm.STATE)"
   ]
  },
  {
   "cell_type": "code",
   "execution_count": 9,
   "id": "cb6a8a74",
   "metadata": {},
   "outputs": [
    {
     "name": "stdout",
     "output_type": "stream",
     "text": [
      "BAResponse(ba_text='Приступаю к уточнению пользовательских историй.', available_state_signals=[], available_global_signals=[], user_base_answer=None, is_userinput_locked=True)\n",
      "BAResponse(ba_text='Начинаю извлечение пользовательских историй на основе предоставленной информации.', available_state_signals=[], available_global_signals=[], user_base_answer=None, is_userinput_locked=True)\n",
      "BAResponse(ba_text='Извлечено пользовательских историй: 2.', available_state_signals=[], available_global_signals=[], user_base_answer=None, is_userinput_locked=True)\n",
      "BAResponse(ba_text='Вы можете, при необходимости, редактировать, добавлять или удалять пользовательские истории.', available_state_signals=[SignalInfo(signal=<WeakStateSignal.add: 6>, shortcut='Добавить user-историю', description=None), SignalInfo(signal=<WeakStateSignal.delete: 7>, shortcut='Удалить user-историю', description=None), SignalInfo(signal=<WeakStateSignal.edit: 8>, shortcut='Изменить user-историю', description=None)], available_global_signals=[SignalInfo(signal=<WeakGlobalSignal.next_stage: 0>, shortcut='Перейти на следующую стадию', description=None)], user_base_answer=None, is_userinput_locked=True)\n",
      "UserResponse(user_text=None, signal=<WeakStateSignal.edit: 8>)\n",
      "BAResponse(ba_text='Запускаю операцию редактирования пользовательской истории.', available_state_signals=[], available_global_signals=[], user_base_answer=None, is_userinput_locked=True)\n",
      "BAResponse(ba_text='Пожалуйста, введите идентификатор пользовательской истории, которую необходимо отредактировать.', available_state_signals=[SignalInfo(signal=<WeakStateSignal.cancel_operation: 0>, shortcut='Отменить действие', description=None)], available_global_signals=[], user_base_answer=None, is_userinput_locked=True)\n",
      "UserResponse(user_text='1', signal=None)\n",
      "BAResponse(ba_text=None, available_state_signals=[], available_global_signals=[], user_base_answer=None, is_userinput_locked=True)\n",
      "BAResponse(ba_text='Введите новую формулировку пользовательской истории.', available_state_signals=[SignalInfo(signal=<WeakStateSignal.cancel_operation: 0>, shortcut='Отменить действие', description=None)], available_global_signals=[], user_base_answer='User-история #1', is_userinput_locked=False)\n",
      "UserResponse(user_text='edited user story #1', signal=None)\n",
      "BAResponse(ba_text='Не удалось сохранить изменения.', available_state_signals=[], available_global_signals=[], user_base_answer=None, is_userinput_locked=True)\n",
      "BAResponse(ba_text='Операция по редактированию пользовательской истории завершена.', available_state_signals=[], available_global_signals=[], user_base_answer=None, is_userinput_locked=True)\n",
      "BAResponse(ba_text='Вы можете, при необходимости, редактировать, добавлять или удалять пользовательские истории.', available_state_signals=[SignalInfo(signal=<WeakStateSignal.add: 6>, shortcut='Добавить user-историю', description=None), SignalInfo(signal=<WeakStateSignal.delete: 7>, shortcut='Удалить user-историю', description=None), SignalInfo(signal=<WeakStateSignal.edit: 8>, shortcut='Изменить user-историю', description=None)], available_global_signals=[SignalInfo(signal=<WeakGlobalSignal.next_stage: 0>, shortcut='Перейти на следующую стадию', description=None)], user_base_answer=None, is_userinput_locked=True)\n",
      "UserResponse(user_text=None, signal=<WeakStateSignal.edit: 8>)\n",
      "BAResponse(ba_text='Запускаю операцию редактирования пользовательской истории.', available_state_signals=[], available_global_signals=[], user_base_answer=None, is_userinput_locked=True)\n",
      "BAResponse(ba_text='Пожалуйста, введите идентификатор пользовательской истории, которую необходимо отредактировать.', available_state_signals=[SignalInfo(signal=<WeakStateSignal.cancel_operation: 0>, shortcut='Отменить действие', description=None)], available_global_signals=[], user_base_answer=None, is_userinput_locked=True)\n",
      "UserResponse(user_text='1', signal=None)\n",
      "BAResponse(ba_text=None, available_state_signals=[], available_global_signals=[], user_base_answer=None, is_userinput_locked=True)\n",
      "BAResponse(ba_text='Введите новую формулировку пользовательской истории.', available_state_signals=[SignalInfo(signal=<WeakStateSignal.cancel_operation: 0>, shortcut='Отменить действие', description=None)], available_global_signals=[], user_base_answer='edited user story #1', is_userinput_locked=False)\n",
      "UserResponse(user_text='edited user story #1', signal=None)\n",
      "BAResponse(ba_text='Изменения успешно сохранены.', available_state_signals=[], available_global_signals=[], user_base_answer=None, is_userinput_locked=True)\n",
      "BAResponse(ba_text='Операция по редактированию пользовательской истории завершена.', available_state_signals=[], available_global_signals=[], user_base_answer=None, is_userinput_locked=True)\n",
      "BAResponse(ba_text='Вы можете, при необходимости, редактировать, добавлять или удалять пользовательские истории.', available_state_signals=[SignalInfo(signal=<WeakStateSignal.add: 6>, shortcut='Добавить user-историю', description=None), SignalInfo(signal=<WeakStateSignal.delete: 7>, shortcut='Удалить user-историю', description=None), SignalInfo(signal=<WeakStateSignal.edit: 8>, shortcut='Изменить user-историю', description=None)], available_global_signals=[SignalInfo(signal=<WeakGlobalSignal.next_stage: 0>, shortcut='Перейти на следующую стадию', description=None)], user_base_answer=None, is_userinput_locked=True)\n",
      "UserResponse(user_text=None, signal=<WeakStateSignal.edit: 8>)\n",
      "BAResponse(ba_text='Запускаю операцию редактирования пользовательской истории.', available_state_signals=[], available_global_signals=[], user_base_answer=None, is_userinput_locked=True)\n",
      "BAResponse(ba_text='Пожалуйста, введите идентификатор пользовательской истории, которую необходимо отредактировать.', available_state_signals=[SignalInfo(signal=<WeakStateSignal.cancel_operation: 0>, shortcut='Отменить действие', description=None)], available_global_signals=[], user_base_answer=None, is_userinput_locked=True)\n",
      "UserResponse(user_text='1', signal=None)\n",
      "BAResponse(ba_text=None, available_state_signals=[], available_global_signals=[], user_base_answer=None, is_userinput_locked=True)\n",
      "BAResponse(ba_text='Введите новую формулировку пользовательской истории.', available_state_signals=[SignalInfo(signal=<WeakStateSignal.cancel_operation: 0>, shortcut='Отменить действие', description=None)], available_global_signals=[], user_base_answer='edited user story #1', is_userinput_locked=False)\n",
      "UserResponse(user_text=None, signal=<WeakStateSignal.cancel_operation: 0>)\n",
      "BAResponse(ba_text='Операция по редактированию пользовательской истории завершена.', available_state_signals=[], available_global_signals=[], user_base_answer=None, is_userinput_locked=True)\n",
      "BAResponse(ba_text='Вы можете, при необходимости, редактировать, добавлять или удалять пользовательские истории.', available_state_signals=[SignalInfo(signal=<WeakStateSignal.add: 6>, shortcut='Добавить user-историю', description=None), SignalInfo(signal=<WeakStateSignal.delete: 7>, shortcut='Удалить user-историю', description=None), SignalInfo(signal=<WeakStateSignal.edit: 8>, shortcut='Изменить user-историю', description=None)], available_global_signals=[SignalInfo(signal=<WeakGlobalSignal.next_stage: 0>, shortcut='Перейти на следующую стадию', description=None)], user_base_answer=None, is_userinput_locked=True)\n",
      "UserResponse(user_text=None, signal=<WeakStateSignal.delete: 7>)\n",
      "BAResponse(ba_text='Запускаю операцию удаления пользовательской истории.', available_state_signals=[], available_global_signals=[], user_base_answer=None, is_userinput_locked=True)\n",
      "BAResponse(ba_text='Пожалуйста, введите идентификатор пользовательской истории, которую необходимо удалить.', available_state_signals=[SignalInfo(signal=<WeakStateSignal.cancel_operation: 0>, shortcut='Отменить действие', description=None)], available_global_signals=[], user_base_answer=None, is_userinput_locked=False)\n",
      "UserResponse(user_text='2', signal=None)\n",
      "BAResponse(ba_text='История успешно удалена.', available_state_signals=[], available_global_signals=[], user_base_answer=None, is_userinput_locked=True)\n",
      "BAResponse(ba_text='Операция по удалению пользовательской истории завершена.', available_state_signals=[], available_global_signals=[], user_base_answer=None, is_userinput_locked=True)\n",
      "BAResponse(ba_text='Вы можете, при необходимости, редактировать, добавлять или удалять пользовательские истории.', available_state_signals=[SignalInfo(signal=<WeakStateSignal.add: 6>, shortcut='Добавить user-историю', description=None), SignalInfo(signal=<WeakStateSignal.delete: 7>, shortcut='Удалить user-историю', description=None), SignalInfo(signal=<WeakStateSignal.edit: 8>, shortcut='Изменить user-историю', description=None)], available_global_signals=[SignalInfo(signal=<WeakGlobalSignal.next_stage: 0>, shortcut='Перейти на следующую стадию', description=None)], user_base_answer=None, is_userinput_locked=True)\n",
      "UserResponse(user_text=None, signal=<WeakStateSignal.edit: 8>)\n",
      "BAResponse(ba_text='Запускаю операцию редактирования пользовательской истории.', available_state_signals=[], available_global_signals=[], user_base_answer=None, is_userinput_locked=True)\n",
      "BAResponse(ba_text='Пожалуйста, введите идентификатор пользовательской истории, которую необходимо отредактировать.', available_state_signals=[SignalInfo(signal=<WeakStateSignal.cancel_operation: 0>, shortcut='Отменить действие', description=None)], available_global_signals=[], user_base_answer=None, is_userinput_locked=True)\n",
      "UserResponse(user_text='qwe', signal=None)\n",
      "BAResponse(ba_text='Не удалось выбрать пользовательскую историю.', available_state_signals=[], available_global_signals=[], user_base_answer=None, is_userinput_locked=True)\n",
      "BAResponse(ba_text='Операция по редактированию пользовательской истории завершена.', available_state_signals=[], available_global_signals=[], user_base_answer=None, is_userinput_locked=True)\n",
      "BAResponse(ba_text='Вы можете, при необходимости, редактировать, добавлять или удалять пользовательские истории.', available_state_signals=[SignalInfo(signal=<WeakStateSignal.add: 6>, shortcut='Добавить user-историю', description=None), SignalInfo(signal=<WeakStateSignal.delete: 7>, shortcut='Удалить user-историю', description=None), SignalInfo(signal=<WeakStateSignal.edit: 8>, shortcut='Изменить user-историю', description=None)], available_global_signals=[SignalInfo(signal=<WeakGlobalSignal.next_stage: 0>, shortcut='Перейти на следующую стадию', description=None)], user_base_answer=None, is_userinput_locked=True)\n",
      "UserResponse(user_text=None, signal=<WeakStateSignal.delete: 7>)\n",
      "BAResponse(ba_text='Запускаю операцию удаления пользовательской истории.', available_state_signals=[], available_global_signals=[], user_base_answer=None, is_userinput_locked=True)\n",
      "BAResponse(ba_text='Пожалуйста, введите идентификатор пользовательской истории, которую необходимо удалить.', available_state_signals=[SignalInfo(signal=<WeakStateSignal.cancel_operation: 0>, shortcut='Отменить действие', description=None)], available_global_signals=[], user_base_answer=None, is_userinput_locked=False)\n",
      "UserResponse(user_text='sagsadg', signal=None)\n",
      "BAResponse(ba_text='Не удалось выбрать пользовательскую историю.', available_state_signals=[], available_global_signals=[], user_base_answer=None, is_userinput_locked=True)\n",
      "BAResponse(ba_text='Операция по удалению пользовательской истории завершена.', available_state_signals=[], available_global_signals=[], user_base_answer=None, is_userinput_locked=True)\n",
      "BAResponse(ba_text='Вы можете, при необходимости, редактировать, добавлять или удалять пользовательские истории.', available_state_signals=[SignalInfo(signal=<WeakStateSignal.add: 6>, shortcut='Добавить user-историю', description=None), SignalInfo(signal=<WeakStateSignal.delete: 7>, shortcut='Удалить user-историю', description=None), SignalInfo(signal=<WeakStateSignal.edit: 8>, shortcut='Изменить user-историю', description=None)], available_global_signals=[SignalInfo(signal=<WeakGlobalSignal.next_stage: 0>, shortcut='Перейти на следующую стадию', description=None)], user_base_answer=None, is_userinput_locked=True)\n",
      "UserResponse(user_text=None, signal=<WeakStateSignal.add: 6>)\n",
      "BAResponse(ba_text='Запускаю операцию добавления новой пользовательской истории.', available_state_signals=[], available_global_signals=[], user_base_answer=None, is_userinput_locked=True)\n",
      "BAResponse(ba_text='Пожалуйста, введите новую пользовательскую историю.', available_state_signals=[SignalInfo(signal=<WeakStateSignal.cancel_operation: 0>, shortcut='Отменить действие', description=None)], available_global_signals=[], user_base_answer=None, is_userinput_locked=False)\n",
      "UserResponse(user_text='new user story', signal=None)\n",
      "BAResponse(ba_text='Пользовательская история успешно добавлена.', available_state_signals=[], available_global_signals=[], user_base_answer=None, is_userinput_locked=True)\n",
      "BAResponse(ba_text='Операция по добавлению новой пользовательской истории завершена.', available_state_signals=[], available_global_signals=[], user_base_answer=None, is_userinput_locked=True)\n",
      "BAResponse(ba_text='Вы можете, при необходимости, редактировать, добавлять или удалять пользовательские истории.', available_state_signals=[SignalInfo(signal=<WeakStateSignal.add: 6>, shortcut='Добавить user-историю', description=None), SignalInfo(signal=<WeakStateSignal.delete: 7>, shortcut='Удалить user-историю', description=None), SignalInfo(signal=<WeakStateSignal.edit: 8>, shortcut='Изменить user-историю', description=None)], available_global_signals=[SignalInfo(signal=<WeakGlobalSignal.next_stage: 0>, shortcut='Перейти на следующую стадию', description=None)], user_base_answer=None, is_userinput_locked=True)\n",
      "UserResponse(user_text=None, signal=<WeakGlobalSignal.next_stage: 0>)\n",
      "BAResponse(ba_text='Уточнение пользовательских историй завершено.', available_state_signals=[], available_global_signals=[], user_base_answer=None, is_userinput_locked=True)\n"
     ]
    }
   ],
   "source": [
    "cur_status = WeakReasonerStatus.waiting_interaction\n",
    "while True:\n",
    "    sleep(1)\n",
    "    if cur_status == WeakReasonerStatus.waiting_interaction:\n",
    "        ba_response, cur_status, done_state = us_comm.prepare_response()\n",
    "        print(ba_response)\n",
    "\n",
    "    elif cur_status == WeakReasonerStatus.waiting_response:\n",
    "        user_text = input()\n",
    "        user_response = UserResponse()\n",
    "        if user_text == \"BREAK\":\n",
    "            user_response.signal = WeakGlobalSignal.next_stage\n",
    "        elif user_text == 'ADD':\n",
    "            user_response.signal = WeakStateSignal.add\n",
    "        elif user_text == \"EDIT\":\n",
    "            user_response.signal = WeakStateSignal.edit\n",
    "        elif user_text == 'DELETE':\n",
    "            user_response.signal = WeakStateSignal.delete\n",
    "        elif user_text == 'CANCEL':\n",
    "            user_response.signal = WeakStateSignal.cancel_operation\n",
    "        else:\n",
    "            user_response.user_text = user_text\n",
    "        print(user_response)\n",
    "        us_comm.process_response(user_response)\n",
    "        cur_status = WeakReasonerStatus.waiting_interaction\n",
    "\n",
    "    elif cur_status == WeakReasonerStatus.done:\n",
    "        break\n",
    "    else:\n",
    "        raise ValueError"
   ]
  },
  {
   "cell_type": "code",
   "execution_count": 10,
   "id": "7c98250b",
   "metadata": {},
   "outputs": [
    {
     "data": {
      "text/plain": [
       "{'1': UserStory(id='1', statement='edited user story #1'),\n",
       " '0': UserStory(id='0', statement='new user story')}"
      ]
     },
     "execution_count": 10,
     "metadata": {},
     "output_type": "execute_result"
    }
   ],
   "source": [
    "reqspec_model.specification_struct.user_stories"
   ]
  },
  {
   "cell_type": "markdown",
   "id": "70ebb7ce",
   "metadata": {},
   "source": [
    "### BusinessProcessesCommunicator"
   ]
  },
  {
   "cell_type": "code",
   "execution_count": 11,
   "id": "7cf180c3",
   "metadata": {},
   "outputs": [],
   "source": [
    "bp_comm = BusinessProcessesCommunicator(reqspec_model, mode='stub')"
   ]
  },
  {
   "cell_type": "code",
   "execution_count": 12,
   "id": "28c11cca",
   "metadata": {},
   "outputs": [
    {
     "name": "stdout",
     "output_type": "stream",
     "text": [
      "BPClarifierCurrentState(base_state=<BPClarifierState.init: 0>,\n",
      "                        askq_state=<BPCAskingState.init: 0>)\n"
     ]
    }
   ],
   "source": [
    "pprint(bp_comm.STATE)"
   ]
  },
  {
   "cell_type": "code",
   "execution_count": 13,
   "id": "8844c194",
   "metadata": {},
   "outputs": [
    {
     "name": "stdout",
     "output_type": "stream",
     "text": [
      "BAResponse(ba_text='Начинаю уточнение деталей по предметной области проекта.', available_state_signals=[], available_global_signals=[], user_base_answer=None, is_userinput_locked=True)\n",
      "BAResponse(ba_text=\"Уточняющий вопрос 'Заглушка'\", available_state_signals=[], available_global_signals=[SignalInfo(signal=<WeakGlobalSignal.next_stage: 0>, shortcut='Перейти на следующую стадию', description=None)], user_base_answer=None, is_userinput_locked=False)\n",
      "UserResponse(user_text='1', signal=None)\n",
      "BAResponse(ba_text=\"Уточняющий вопрос 'Заглушка'\", available_state_signals=[], available_global_signals=[SignalInfo(signal=<WeakGlobalSignal.next_stage: 0>, shortcut='Перейти на следующую стадию', description=None)], user_base_answer=None, is_userinput_locked=False)\n",
      "UserResponse(user_text='2', signal=None)\n",
      "BAResponse(ba_text=\"Уточняющий вопрос 'Заглушка'\", available_state_signals=[], available_global_signals=[SignalInfo(signal=<WeakGlobalSignal.next_stage: 0>, shortcut='Перейти на следующую стадию', description=None)], user_base_answer=None, is_userinput_locked=False)\n",
      "UserResponse(user_text='3', signal=None)\n",
      "BAResponse(ba_text=\"Уточняющий вопрос 'Заглушка'\", available_state_signals=[], available_global_signals=[SignalInfo(signal=<WeakGlobalSignal.next_stage: 0>, shortcut='Перейти на следующую стадию', description=None)], user_base_answer=None, is_userinput_locked=False)\n",
      "UserResponse(user_text='4', signal=None)\n",
      "BAResponse(ba_text=\"Уточняющий вопрос 'Заглушка'\", available_state_signals=[], available_global_signals=[SignalInfo(signal=<WeakGlobalSignal.next_stage: 0>, shortcut='Перейти на следующую стадию', description=None)], user_base_answer=None, is_userinput_locked=False)\n",
      "UserResponse(user_text='5', signal=None)\n",
      "BAResponse(ba_text=\"Уточняющий вопрос 'Заглушка'\", available_state_signals=[], available_global_signals=[SignalInfo(signal=<WeakGlobalSignal.next_stage: 0>, shortcut='Перейти на следующую стадию', description=None)], user_base_answer=None, is_userinput_locked=False)\n",
      "UserResponse(user_text='6', signal=None)\n",
      "BAResponse(ba_text=\"Уточняющий вопрос 'Заглушка'\", available_state_signals=[], available_global_signals=[SignalInfo(signal=<WeakGlobalSignal.next_stage: 0>, shortcut='Перейти на следующую стадию', description=None)], user_base_answer=None, is_userinput_locked=False)\n",
      "UserResponse(user_text='7', signal=None)\n",
      "BAResponse(ba_text=\"Уточняющий вопрос 'Заглушка'\", available_state_signals=[], available_global_signals=[SignalInfo(signal=<WeakGlobalSignal.next_stage: 0>, shortcut='Перейти на следующую стадию', description=None)], user_base_answer=None, is_userinput_locked=False)\n",
      "UserResponse(user_text='8', signal=None)\n",
      "BAResponse(ba_text=\"Уточняющий вопрос 'Заглушка'\", available_state_signals=[], available_global_signals=[SignalInfo(signal=<WeakGlobalSignal.next_stage: 0>, shortcut='Перейти на следующую стадию', description=None)], user_base_answer=None, is_userinput_locked=False)\n",
      "UserResponse(user_text='9', signal=None)\n",
      "BAResponse(ba_text=\"Уточняющий вопрос 'Заглушка'\", available_state_signals=[], available_global_signals=[SignalInfo(signal=<WeakGlobalSignal.next_stage: 0>, shortcut='Перейти на следующую стадию', description=None)], user_base_answer=None, is_userinput_locked=False)\n",
      "UserResponse(user_text='10', signal=None)\n",
      "BAResponse(ba_text='Достигнут лимит уточняющих вопросов.', available_state_signals=[], available_global_signals=[], user_base_answer=None, is_userinput_locked=True)\n",
      "BAResponse(ba_text='Уточнение деталей предметной области завершено.', available_state_signals=[], available_global_signals=[], user_base_answer=None, is_userinput_locked=True)\n"
     ]
    }
   ],
   "source": [
    "cur_status = WeakReasonerStatus.waiting_interaction\n",
    "while True:\n",
    "    sleep(1)\n",
    "    if cur_status == WeakReasonerStatus.waiting_interaction:\n",
    "        ba_response, cur_status, done_state = bp_comm.prepare_response()\n",
    "        print(ba_response)\n",
    "\n",
    "    elif cur_status == WeakReasonerStatus.waiting_response:\n",
    "        user_text = input()\n",
    "        user_response = UserResponse()\n",
    "        if user_text == \"BREAK\":\n",
    "            user_response.signal = WeakGlobalSignal.next_stage\n",
    "        else:\n",
    "            user_response.user_text = user_text\n",
    "        print(user_response)\n",
    "        bp_comm.process_response(user_response)\n",
    "        cur_status = WeakReasonerStatus.waiting_interaction\n",
    "\n",
    "    elif cur_status == WeakReasonerStatus.done:\n",
    "        break\n",
    "    else:\n",
    "        raise ValueError"
   ]
  },
  {
   "cell_type": "code",
   "execution_count": 14,
   "id": "5c0a7230",
   "metadata": {},
   "outputs": [
    {
     "name": "stdout",
     "output_type": "stream",
     "text": [
      "DialogueHistory(sequence=[Response(role='ba',\n",
      "                                   text=\"Уточняющий вопрос 'Заглушка'\",\n",
      "                                   signal=None),\n",
      "                          Response(role='user', text='1', signal=None),\n",
      "                          Response(role='ba',\n",
      "                                   text=\"Уточняющий вопрос 'Заглушка'\",\n",
      "                                   signal=None),\n",
      "                          Response(role='user', text='2', signal=None),\n",
      "                          Response(role='ba',\n",
      "                                   text=\"Уточняющий вопрос 'Заглушка'\",\n",
      "                                   signal=None),\n",
      "                          Response(role='user', text='3', signal=None),\n",
      "                          Response(role='ba',\n",
      "                                   text=\"Уточняющий вопрос 'Заглушка'\",\n",
      "                                   signal=None),\n",
      "                          Response(role='user', text='4', signal=None),\n",
      "                          Response(role='ba',\n",
      "                                   text=\"Уточняющий вопрос 'Заглушка'\",\n",
      "                                   signal=None),\n",
      "                          Response(role='user', text='5', signal=None),\n",
      "                          Response(role='ba',\n",
      "                                   text=\"Уточняющий вопрос 'Заглушка'\",\n",
      "                                   signal=None),\n",
      "                          Response(role='user', text='6', signal=None),\n",
      "                          Response(role='ba',\n",
      "                                   text=\"Уточняющий вопрос 'Заглушка'\",\n",
      "                                   signal=None),\n",
      "                          Response(role='user', text='7', signal=None),\n",
      "                          Response(role='ba',\n",
      "                                   text=\"Уточняющий вопрос 'Заглушка'\",\n",
      "                                   signal=None),\n",
      "                          Response(role='user', text='8', signal=None),\n",
      "                          Response(role='ba',\n",
      "                                   text=\"Уточняющий вопрос 'Заглушка'\",\n",
      "                                   signal=None),\n",
      "                          Response(role='user', text='9', signal=None),\n",
      "                          Response(role='ba',\n",
      "                                   text=\"Уточняющий вопрос 'Заглушка'\",\n",
      "                                   signal=None),\n",
      "                          Response(role='user', text='10', signal=None)])\n"
     ]
    }
   ],
   "source": [
    "pprint(reqspec_model.states_valuable_history[WeakReasonerState.bp_clarifying]['detailed_qa'])"
   ]
  },
  {
   "cell_type": "markdown",
   "id": "dacfb66e",
   "metadata": {},
   "source": [
    "### RolesCommunicator"
   ]
  },
  {
   "cell_type": "code",
   "execution_count": 3,
   "id": "a84eacc6",
   "metadata": {},
   "outputs": [],
   "source": [
    "r_comm = RolesCommunicator(reqspec_model, mode='stub')"
   ]
  },
  {
   "cell_type": "code",
   "execution_count": 4,
   "id": "3d178234",
   "metadata": {},
   "outputs": [
    {
     "name": "stdout",
     "output_type": "stream",
     "text": [
      "RExtractorCurrentState(base_state=<RExtractorState.init: 0>)\n"
     ]
    }
   ],
   "source": [
    "pprint(r_comm.STATE)"
   ]
  },
  {
   "cell_type": "code",
   "execution_count": 5,
   "id": "e4e1fd8e",
   "metadata": {},
   "outputs": [
    {
     "name": "stdout",
     "output_type": "stream",
     "text": [
      "BAResponse(ba_text='Начинаю извлечение ролей из пользовательских историй.', available_state_signals=[], available_global_signals=[], user_base_answer=None, is_userinput_locked=True)\n",
      "BAResponse(ba_text='Извлечение завершено. Обнаружено ролей: 2.', available_state_signals=[], available_global_signals=[], user_base_answer=None, is_userinput_locked=True)\n",
      "BAResponse(ba_text='Операция по извлечению ролей завершена.', available_state_signals=[], available_global_signals=[], user_base_answer=None, is_userinput_locked=True)\n"
     ]
    }
   ],
   "source": [
    "cur_status = WeakReasonerStatus.waiting_interaction\n",
    "while True:\n",
    "    sleep(1)\n",
    "    if cur_status == WeakReasonerStatus.waiting_interaction:\n",
    "        ba_response, cur_status, done_state = r_comm.prepare_response()\n",
    "        print(ba_response)\n",
    "\n",
    "    elif cur_status == WeakReasonerStatus.waiting_response:\n",
    "        user_text = input()\n",
    "        user_response = UserResponse()\n",
    "        user_response.user_text = user_text\n",
    "        print(user_response)\n",
    "        r_comm.process_response(user_response)\n",
    "        cur_status = WeakReasonerStatus.waiting_interaction\n",
    "\n",
    "    elif cur_status == WeakReasonerStatus.done:\n",
    "        break\n",
    "    else:\n",
    "        raise ValueError"
   ]
  },
  {
   "cell_type": "code",
   "execution_count": 6,
   "id": "4ea5fd5d",
   "metadata": {},
   "outputs": [
    {
     "data": {
      "text/plain": [
       "{'1': Role(id='1', name='Роль #1', description=None, related_userstory_ids=[], related_scenarios_ids=[]),\n",
       " '2': Role(id='2', name='Роль #2', description=None, related_userstory_ids=[], related_scenarios_ids=[])}"
      ]
     },
     "execution_count": 6,
     "metadata": {},
     "output_type": "execute_result"
    }
   ],
   "source": [
    "reqspec_model.specification_struct.roles"
   ]
  },
  {
   "cell_type": "markdown",
   "id": "a6f3283a",
   "metadata": {},
   "source": [
    "### ScenariosCommunicator"
   ]
  },
  {
   "cell_type": "code",
   "execution_count": 3,
   "id": "ad6471cc",
   "metadata": {},
   "outputs": [],
   "source": [
    "s_comm = ScenariosCommunicator(reqspec_model, mode='stub')"
   ]
  },
  {
   "cell_type": "code",
   "execution_count": 4,
   "id": "6ef3d714",
   "metadata": {},
   "outputs": [],
   "source": [
    "reqspec_model.specification_struct.user_stories = {\n",
    "    '1': UserStory(id='1', statement=\"User-история #1\"),\n",
    "    '2': UserStory(id='2', statement=\"User-история #2\"),\n",
    "    '3': UserStory(id='3', statement=\"User-история #3\")\n",
    "}"
   ]
  },
  {
   "cell_type": "code",
   "execution_count": 5,
   "id": "ede24f44",
   "metadata": {},
   "outputs": [
    {
     "name": "stdout",
     "output_type": "stream",
     "text": [
      "SClarifierCurrentState(base_state=<SClarifierState.init: 0>,\n",
      "                       sdelete_state=<SDeleteState.init: 0>,\n",
      "                       srecomm_state=<SRecommendState.init: 0>)\n"
     ]
    }
   ],
   "source": [
    "pprint(s_comm.STATE)"
   ]
  },
  {
   "cell_type": "code",
   "execution_count": 6,
   "id": "fcb9683a",
   "metadata": {},
   "outputs": [
    {
     "name": "stdout",
     "output_type": "stream",
     "text": [
      "BAResponse(ba_text='Приступаю к уточнению поддерживаемых сценариев.', available_state_signals=[], available_global_signals=[], user_base_answer=None, is_userinput_locked=True)\n",
      "BAResponse(ba_text='Вы можете, при необходимости удалить или получить рекомендацию сценария.', available_state_signals=[], available_global_signals=[SignalInfo(signal=<WeakGlobalSignal.next_stage: 0>, shortcut='Перейти на следующую стадию', description=None)], user_base_answer=None, is_userinput_locked=True)\n",
      "UserResponse(user_text=None, signal=<WeakStateSignal.recommend_new: 9>)\n",
      "BAResponse(ba_text='Начинаю автоматическое формирование рекомендованного сценария.', available_state_signals=[], available_global_signals=[], user_base_answer=None, is_userinput_locked=True)\n",
      "BAResponse(ba_text='Пожалуйста, введите идентификатор пользовательской истории, на основе которой будет предложен сценарий.', available_state_signals=[SignalInfo(signal=<WeakStateSignal.cancel_operation: 0>, shortcut='Отменить действие', description=None)], available_global_signals=[], user_base_answer=None, is_userinput_locked=False)\n",
      "UserResponse(user_text='1', signal=None)\n",
      "BAResponse(ba_text='Пользовательская история успешно выбрана.', available_state_signals=[], available_global_signals=[], user_base_answer=None, is_userinput_locked=True)\n",
      "BAResponse(ba_text='Примите решение по предложенному сценарию: добавить его в ТЗ или отклонить: \\nСценарий: Заголовок заглушка (СИ№7e796)\\n1. действие №1\\n2. 2.действие №2', available_state_signals=[SignalInfo(signal=<WeakStateSignal.approve: 4>, shortcut='Добавить сценрий в ТЗ', description=None), SignalInfo(signal=<WeakStateSignal.decline: 5>, shortcut='Отклонить сценарий', description=None), SignalInfo(signal=<WeakStateSignal.cancel_operation: 0>, shortcut='Отменить действие', description=None)], available_global_signals=[], user_base_answer=None, is_userinput_locked=True)\n",
      "UserResponse(user_text=None, signal=<WeakStateSignal.approve: 4>)\n",
      "BAResponse(ba_text='Формирование и обработка рекомендации завершены.', available_state_signals=[], available_global_signals=[], user_base_answer=None, is_userinput_locked=True)\n",
      "BAResponse(ba_text='Вы можете, при необходимости удалить или получить рекомендацию сценария.', available_state_signals=[], available_global_signals=[SignalInfo(signal=<WeakGlobalSignal.next_stage: 0>, shortcut='Перейти на следующую стадию', description=None)], user_base_answer=None, is_userinput_locked=True)\n",
      "UserResponse(user_text=None, signal=<WeakStateSignal.recommend_new: 9>)\n",
      "BAResponse(ba_text='Начинаю автоматическое формирование рекомендованного сценария.', available_state_signals=[], available_global_signals=[], user_base_answer=None, is_userinput_locked=True)\n",
      "BAResponse(ba_text='Пожалуйста, введите идентификатор пользовательской истории, на основе которой будет предложен сценарий.', available_state_signals=[SignalInfo(signal=<WeakStateSignal.cancel_operation: 0>, shortcut='Отменить действие', description=None)], available_global_signals=[], user_base_answer=None, is_userinput_locked=False)\n",
      "UserResponse(user_text='1', signal=None)\n",
      "BAResponse(ba_text='Пользовательская история успешно выбрана.', available_state_signals=[], available_global_signals=[], user_base_answer=None, is_userinput_locked=True)\n",
      "BAResponse(ba_text='Примите решение по предложенному сценарию: добавить его в ТЗ или отклонить: \\nСценарий: Заголовок заглушка (СИ№d9fae)\\n1. действие №1\\n2. 2.действие №2', available_state_signals=[SignalInfo(signal=<WeakStateSignal.approve: 4>, shortcut='Добавить сценрий в ТЗ', description=None), SignalInfo(signal=<WeakStateSignal.decline: 5>, shortcut='Отклонить сценарий', description=None), SignalInfo(signal=<WeakStateSignal.cancel_operation: 0>, shortcut='Отменить действие', description=None)], available_global_signals=[], user_base_answer=None, is_userinput_locked=True)\n",
      "UserResponse(user_text=None, signal=<WeakStateSignal.decline: 5>)\n",
      "BAResponse(ba_text='Формирование и обработка рекомендации завершены.', available_state_signals=[], available_global_signals=[], user_base_answer=None, is_userinput_locked=True)\n",
      "BAResponse(ba_text='Вы можете, при необходимости удалить или получить рекомендацию сценария.', available_state_signals=[], available_global_signals=[SignalInfo(signal=<WeakGlobalSignal.next_stage: 0>, shortcut='Перейти на следующую стадию', description=None)], user_base_answer=None, is_userinput_locked=True)\n",
      "UserResponse(user_text=None, signal=<WeakStateSignal.delete: 7>)\n",
      "BAResponse(ba_text='Запускаю операцию удаления сценария.', available_state_signals=[], available_global_signals=[], user_base_answer=None, is_userinput_locked=True)\n",
      "BAResponse(ba_text='Пожалуйста, введите идентификатор сценария, который требуется удалить.', available_state_signals=[], available_global_signals=[], user_base_answer=None, is_userinput_locked=False)\n",
      "UserResponse(user_text='1', signal=None)\n",
      "BAResponse(ba_text='Не удалось найти сценарий.', available_state_signals=[], available_global_signals=[], user_base_answer=None, is_userinput_locked=True)\n",
      "BAResponse(ba_text='Удаление сценария завершено.', available_state_signals=[], available_global_signals=[], user_base_answer=None, is_userinput_locked=True)\n",
      "BAResponse(ba_text='Вы можете, при необходимости удалить или получить рекомендацию сценария.', available_state_signals=[], available_global_signals=[SignalInfo(signal=<WeakGlobalSignal.next_stage: 0>, shortcut='Перейти на следующую стадию', description=None)], user_base_answer=None, is_userinput_locked=True)\n",
      "UserResponse(user_text=None, signal=<WeakStateSignal.recommend_new: 9>)\n",
      "BAResponse(ba_text='Начинаю автоматическое формирование рекомендованного сценария.', available_state_signals=[], available_global_signals=[], user_base_answer=None, is_userinput_locked=True)\n",
      "BAResponse(ba_text='Пожалуйста, введите идентификатор пользовательской истории, на основе которой будет предложен сценарий.', available_state_signals=[SignalInfo(signal=<WeakStateSignal.cancel_operation: 0>, shortcut='Отменить действие', description=None)], available_global_signals=[], user_base_answer=None, is_userinput_locked=False)\n",
      "UserResponse(user_text='1', signal=None)\n",
      "BAResponse(ba_text='Пользовательская история успешно выбрана.', available_state_signals=[], available_global_signals=[], user_base_answer=None, is_userinput_locked=True)\n",
      "BAResponse(ba_text='Примите решение по предложенному сценарию: добавить его в ТЗ или отклонить: \\nСценарий: Заголовок заглушка (СИ№5c52a)\\n1. действие №1\\n2. 2.действие №2', available_state_signals=[SignalInfo(signal=<WeakStateSignal.approve: 4>, shortcut='Добавить сценрий в ТЗ', description=None), SignalInfo(signal=<WeakStateSignal.decline: 5>, shortcut='Отклонить сценарий', description=None), SignalInfo(signal=<WeakStateSignal.cancel_operation: 0>, shortcut='Отменить действие', description=None)], available_global_signals=[], user_base_answer=None, is_userinput_locked=True)\n",
      "UserResponse(user_text=None, signal=<WeakStateSignal.approve: 4>)\n",
      "BAResponse(ba_text='Формирование и обработка рекомендации завершены.', available_state_signals=[], available_global_signals=[], user_base_answer=None, is_userinput_locked=True)\n",
      "BAResponse(ba_text='Вы можете, при необходимости удалить или получить рекомендацию сценария.', available_state_signals=[], available_global_signals=[SignalInfo(signal=<WeakGlobalSignal.next_stage: 0>, shortcut='Перейти на следующую стадию', description=None)], user_base_answer=None, is_userinput_locked=True)\n",
      "UserResponse(user_text=None, signal=<WeakStateSignal.recommend_new: 9>)\n",
      "BAResponse(ba_text='Начинаю автоматическое формирование рекомендованного сценария.', available_state_signals=[], available_global_signals=[], user_base_answer=None, is_userinput_locked=True)\n",
      "BAResponse(ba_text='Пожалуйста, введите идентификатор пользовательской истории, на основе которой будет предложен сценарий.', available_state_signals=[SignalInfo(signal=<WeakStateSignal.cancel_operation: 0>, shortcut='Отменить действие', description=None)], available_global_signals=[], user_base_answer=None, is_userinput_locked=False)\n",
      "UserResponse(user_text='2', signal=None)\n",
      "BAResponse(ba_text='Пользовательская история успешно выбрана.', available_state_signals=[], available_global_signals=[], user_base_answer=None, is_userinput_locked=True)\n",
      "BAResponse(ba_text='Примите решение по предложенному сценарию: добавить его в ТЗ или отклонить: \\nСценарий: Заголовок заглушка (СИ№b19b4)\\n1. действие №1\\n2. 2.действие №2', available_state_signals=[SignalInfo(signal=<WeakStateSignal.approve: 4>, shortcut='Добавить сценрий в ТЗ', description=None), SignalInfo(signal=<WeakStateSignal.decline: 5>, shortcut='Отклонить сценарий', description=None), SignalInfo(signal=<WeakStateSignal.cancel_operation: 0>, shortcut='Отменить действие', description=None)], available_global_signals=[], user_base_answer=None, is_userinput_locked=True)\n",
      "UserResponse(user_text=None, signal=<WeakStateSignal.approve: 4>)\n",
      "BAResponse(ba_text='Формирование и обработка рекомендации завершены.', available_state_signals=[], available_global_signals=[], user_base_answer=None, is_userinput_locked=True)\n",
      "BAResponse(ba_text='Вы можете, при необходимости удалить или получить рекомендацию сценария.', available_state_signals=[], available_global_signals=[SignalInfo(signal=<WeakGlobalSignal.next_stage: 0>, shortcut='Перейти на следующую стадию', description=None)], user_base_answer=None, is_userinput_locked=True)\n",
      "UserResponse(user_text=None, signal=<WeakGlobalSignal.next_stage: 0>)\n",
      "BAResponse(ba_text='Уточнение сценариев завершено.', available_state_signals=[], available_global_signals=[], user_base_answer=None, is_userinput_locked=True)\n"
     ]
    }
   ],
   "source": [
    "cur_status = WeakReasonerStatus.waiting_interaction\n",
    "while True:\n",
    "    sleep(1)\n",
    "    if cur_status == WeakReasonerStatus.waiting_interaction:\n",
    "        ba_response, cur_status, done_state = s_comm.prepare_response()\n",
    "        print(ba_response)\n",
    "\n",
    "    elif cur_status == WeakReasonerStatus.waiting_response:\n",
    "        user_text = input()\n",
    "        user_response = UserResponse()\n",
    "        if user_text == \"BREAK\":\n",
    "            user_response.signal = WeakGlobalSignal.next_stage\n",
    "        elif user_text == 'RECOMM':\n",
    "            user_response.signal = WeakStateSignal.recommend_new\n",
    "        elif user_text == 'DELETE':\n",
    "            user_response.signal = WeakStateSignal.delete\n",
    "        elif user_text == 'CANCEL':\n",
    "            user_response.signal = WeakStateSignal.cancel_operation\n",
    "        elif user_text == 'APPROVE':\n",
    "            user_response.signal = WeakStateSignal.approve\n",
    "        elif user_text == 'DECLINE':\n",
    "            user_response.signal = WeakStateSignal.decline\n",
    "        else:\n",
    "            user_response.user_text = user_text\n",
    "        print(user_response)\n",
    "        s_comm.process_response(user_response)\n",
    "        cur_status = WeakReasonerStatus.waiting_interaction\n",
    "\n",
    "    elif cur_status == WeakReasonerStatus.done:\n",
    "        break\n",
    "    else:\n",
    "        raise ValueError"
   ]
  },
  {
   "cell_type": "code",
   "execution_count": 7,
   "id": "dc34b524",
   "metadata": {},
   "outputs": [
    {
     "name": "stdout",
     "output_type": "stream",
     "text": [
      "{'1': UserStory(id='1',\n",
      "                statement='User-история #1',\n",
      "                related_scenario_ids=['7e796', '5c52a']),\n",
      " '2': UserStory(id='2',\n",
      "                statement='User-история #2',\n",
      "                related_scenario_ids=['b19b4']),\n",
      " '3': UserStory(id='3', statement='User-история #3', related_scenario_ids=[])}\n"
     ]
    }
   ],
   "source": [
    "pprint(reqspec_model.specification_struct.user_stories)"
   ]
  },
  {
   "cell_type": "code",
   "execution_count": 8,
   "id": "cda443c0",
   "metadata": {},
   "outputs": [
    {
     "name": "stdout",
     "output_type": "stream",
     "text": [
      "{'declined_scenarios': defaultdict(<class 'list'>,\n",
      "                                   {'1': [Scenario(id='d9fae',\n",
      "                                                   statement=None,\n",
      "                                                   title='Заголовок заглушка',\n",
      "                                                   steps=['действие №1',\n",
      "                                                          '2.действие №2'],\n",
      "                                                   related_userstory_ids=[])]})}\n"
     ]
    }
   ],
   "source": [
    "pprint(reqspec_model.states_valuable_history[WeakReasonerState.scenarios_ccrud])"
   ]
  },
  {
   "cell_type": "code",
   "execution_count": 9,
   "id": "4809c3a4",
   "metadata": {},
   "outputs": [
    {
     "name": "stdout",
     "output_type": "stream",
     "text": [
      "{'5c52a': Scenario(id='5c52a',\n",
      "                   statement=None,\n",
      "                   title='Заголовок заглушка',\n",
      "                   steps=['действие №1', '2.действие №2'],\n",
      "                   related_userstory_ids=[]),\n",
      " '7e796': Scenario(id='7e796',\n",
      "                   statement=None,\n",
      "                   title='Заголовок заглушка',\n",
      "                   steps=['действие №1', '2.действие №2'],\n",
      "                   related_userstory_ids=[]),\n",
      " 'b19b4': Scenario(id='b19b4',\n",
      "                   statement=None,\n",
      "                   title='Заголовок заглушка',\n",
      "                   steps=['действие №1', '2.действие №2'],\n",
      "                   related_userstory_ids=[])}\n"
     ]
    }
   ],
   "source": [
    "pprint(reqspec_model.specification_struct.scenarios)"
   ]
  },
  {
   "cell_type": "markdown",
   "id": "fdadb562",
   "metadata": {},
   "source": [
    "### FuncRequirementsCommunicator"
   ]
  },
  {
   "cell_type": "code",
   "execution_count": 3,
   "id": "12324846",
   "metadata": {},
   "outputs": [],
   "source": [
    "freq_comm = FuncRequirementsCommunicator(reqspec_model, mode='stub')"
   ]
  },
  {
   "cell_type": "code",
   "execution_count": 4,
   "id": "aaadc5ba",
   "metadata": {},
   "outputs": [
    {
     "name": "stdout",
     "output_type": "stream",
     "text": [
      "FRExtractorCurrentState(base_state=<FRExtractorState.init: 0>)\n"
     ]
    }
   ],
   "source": [
    "pprint(freq_comm.STATE)"
   ]
  },
  {
   "cell_type": "code",
   "execution_count": 5,
   "id": "5c415d4a",
   "metadata": {},
   "outputs": [],
   "source": [
    "reqspec_model.specification_struct.scenarios = {\n",
    "    '1': Scenario(id=\"1\", statement=\"Пользовательский сценарий #1\"),\n",
    "    '2': Scenario(id=\"1\", statement=\"Пользовательскйи сценарий #2\"),\n",
    "    '3': Scenario(id=\"1\", statement=\"Пользовательскйи сценарий #3\")\n",
    "}\n",
    "\n",
    "reqspec_model.specification_struct.user_stories = {\n",
    "    '1': UserStory(id='1', statement=\"User-история #1\", related_scenario_ids=[\"1\",\"2\"]),\n",
    "    '2': UserStory(id='2', statement=\"User-история #2\", related_scenario_ids=[\"3\"]),\n",
    "    '3': UserStory(id='3', statement=\"User-история #3\")\n",
    "}"
   ]
  },
  {
   "cell_type": "code",
   "execution_count": 6,
   "id": "814bff15",
   "metadata": {},
   "outputs": [
    {
     "name": "stdout",
     "output_type": "stream",
     "text": [
      "BAResponse(ba_text='Начинаю извлечение функциональных требований.', available_state_signals=[], available_global_signals=[], user_base_answer=None, is_userinput_locked=True)\n",
      "BAResponse(ba_text='Извлечение завершено. Обнаружено функциональных требований: 7.', available_state_signals=[], available_global_signals=[], user_base_answer=None, is_userinput_locked=True)\n",
      "BAResponse(ba_text='Операция по извлечению функциональных требований завершена.', available_state_signals=[], available_global_signals=[], user_base_answer=None, is_userinput_locked=True)\n"
     ]
    }
   ],
   "source": [
    "cur_status = WeakReasonerStatus.waiting_interaction\n",
    "while True:\n",
    "    sleep(1)\n",
    "    if cur_status == WeakReasonerStatus.waiting_interaction:\n",
    "        ba_response, cur_status, done_state = freq_comm.prepare_response()\n",
    "        print(ba_response)\n",
    "\n",
    "    elif cur_status == WeakReasonerStatus.waiting_response:\n",
    "        user_text = input()\n",
    "        user_response = UserResponse()\n",
    "        user_response.user_text = user_text\n",
    "        print(user_response)\n",
    "        freq_comm.process_response(user_response)\n",
    "        cur_status = WeakReasonerStatus.waiting_interaction\n",
    "\n",
    "    elif cur_status == WeakReasonerStatus.done:\n",
    "        break\n",
    "    else:\n",
    "        raise ValueError"
   ]
  },
  {
   "cell_type": "code",
   "execution_count": 8,
   "id": "cc2f092b",
   "metadata": {},
   "outputs": [
    {
     "name": "stdout",
     "output_type": "stream",
     "text": [
      "{'1': FunctionalRequirement(id='1',\n",
      "                            statement=\"Функциональное требование 'Заглушка' #1\",\n",
      "                            related_userstory_ids=[],\n",
      "                            related_scenarios_ids=[]),\n",
      " '2': FunctionalRequirement(id='2',\n",
      "                            statement=\"Функциональное требование 'Заглушка' #2\",\n",
      "                            related_userstory_ids=[],\n",
      "                            related_scenarios_ids=[]),\n",
      " '3': FunctionalRequirement(id='3',\n",
      "                            statement=\"Функциональное требование 'Заглушка' #3\",\n",
      "                            related_userstory_ids=[],\n",
      "                            related_scenarios_ids=[]),\n",
      " '4': FunctionalRequirement(id='4',\n",
      "                            statement=\"Функциональное требование 'Заглушка' #4\",\n",
      "                            related_userstory_ids=[],\n",
      "                            related_scenarios_ids=[]),\n",
      " '5': FunctionalRequirement(id='5',\n",
      "                            statement=\"Функциональное требование 'Заглушка' #5\",\n",
      "                            related_userstory_ids=[],\n",
      "                            related_scenarios_ids=[]),\n",
      " '6': FunctionalRequirement(id='6',\n",
      "                            statement=\"Функциональное требование 'Заглушка' #6\",\n",
      "                            related_userstory_ids=[],\n",
      "                            related_scenarios_ids=[]),\n",
      " '7': FunctionalRequirement(id='7',\n",
      "                            statement=\"Функциональное требование 'Заглушка' #7\",\n",
      "                            related_userstory_ids=[],\n",
      "                            related_scenarios_ids=[])}\n"
     ]
    }
   ],
   "source": [
    "pprint(reqspec_model.specification_struct.reqs_info.functional)"
   ]
  },
  {
   "cell_type": "code",
   "execution_count": 7,
   "id": "319d496e",
   "metadata": {},
   "outputs": [
    {
     "name": "stdout",
     "output_type": "stream",
     "text": [
      "{'1': FunctionalRequirementGroup(id='1',\n",
      "                                 title='Название группы #1',\n",
      "                                 grouped_funcreq_ids=['1', '3', '5']),\n",
      " '2': FunctionalRequirementGroup(id='2',\n",
      "                                 title='Название группы #2',\n",
      "                                 grouped_funcreq_ids=['2', '4']),\n",
      " '3': FunctionalRequirementGroup(id='3',\n",
      "                                 title='Название группы #3',\n",
      "                                 grouped_funcreq_ids=['6', '7'])}\n"
     ]
    }
   ],
   "source": [
    "pprint(reqspec_model.specification_struct.reqs_info.fgroups)"
   ]
  },
  {
   "cell_type": "markdown",
   "id": "f966fccf",
   "metadata": {},
   "source": [
    "### SysRequirementsCommunicator"
   ]
  },
  {
   "cell_type": "code",
   "execution_count": 3,
   "id": "8275c29b",
   "metadata": {},
   "outputs": [],
   "source": [
    "sreq_comm = SysRequirementsCommunicator(reqspec_model, mode='stub')"
   ]
  },
  {
   "cell_type": "code",
   "execution_count": 4,
   "id": "95b5faf9",
   "metadata": {},
   "outputs": [
    {
     "name": "stdout",
     "output_type": "stream",
     "text": [
      "SReqClarifierCurrentState(base_state=<SReqClarifierState.init: 0>,\n",
      "                          srextr_state=<SReqExtractingState.init: 0>,\n",
      "                          sradd_state=<SReqAddState.init: 0>,\n",
      "                          srdelete_state=<SReqDeleteState.init: 0>,\n",
      "                          sredit_state=<SReqEditState.init: 0>)\n"
     ]
    }
   ],
   "source": [
    "pprint(sreq_comm.STATE)"
   ]
  },
  {
   "cell_type": "code",
   "execution_count": 5,
   "id": "34f1f67e",
   "metadata": {},
   "outputs": [
    {
     "name": "stdout",
     "output_type": "stream",
     "text": [
      "BAResponse(ba_text='Приступаю к формированию системных требований.', available_state_signals=[], available_global_signals=[], user_base_answer=None, is_userinput_locked=True)\n",
      "BAResponse(ba_text='Начинаю извлечение системных требований.', available_state_signals=[], available_global_signals=[], user_base_answer=None, is_userinput_locked=True)\n",
      "BAResponse(ba_text='Извлечено системных требований: 3.', available_state_signals=[], available_global_signals=[], user_base_answer=None, is_userinput_locked=True)\n",
      "BAResponse(ba_text='Вы можете, при необходимости, редактировать, добавлять или удалять системные требования.', available_state_signals=[SignalInfo(signal=<WeakStateSignal.add: 6>, shortcut='Добавить требование', description=None), SignalInfo(signal=<WeakStateSignal.delete: 7>, shortcut='Удалить требование', description=None), SignalInfo(signal=<WeakStateSignal.edit: 8>, shortcut='Изменить требование', description=None)], available_global_signals=[SignalInfo(signal=<WeakGlobalSignal.next_stage: 0>, shortcut='Перейти на следующую стадию', description=None)], user_base_answer=None, is_userinput_locked=True)\n",
      "UserResponse(user_text=None, signal=<WeakStateSignal.add: 6>)\n",
      "BAResponse(ba_text='Запускаю операцию добавления нового системного требования.', available_state_signals=[], available_global_signals=[], user_base_answer=None, is_userinput_locked=True)\n",
      "BAResponse(ba_text='Пожалуйста, введите новое системное требование.', available_state_signals=[SignalInfo(signal=<WeakStateSignal.cancel_operation: 0>, shortcut='Отменить действие', description=None)], available_global_signals=[], user_base_answer=None, is_userinput_locked=False)\n",
      "UserResponse(user_text=None, signal=<WeakStateSignal.cancel_operation: 0>)\n",
      "BAResponse(ba_text='Операция по добавлению нового системного требования завершена.', available_state_signals=[], available_global_signals=[], user_base_answer=None, is_userinput_locked=True)\n",
      "BAResponse(ba_text='Вы можете, при необходимости, редактировать, добавлять или удалять системные требования.', available_state_signals=[SignalInfo(signal=<WeakStateSignal.add: 6>, shortcut='Добавить требование', description=None), SignalInfo(signal=<WeakStateSignal.delete: 7>, shortcut='Удалить требование', description=None), SignalInfo(signal=<WeakStateSignal.edit: 8>, shortcut='Изменить требование', description=None)], available_global_signals=[SignalInfo(signal=<WeakGlobalSignal.next_stage: 0>, shortcut='Перейти на следующую стадию', description=None)], user_base_answer=None, is_userinput_locked=True)\n",
      "UserResponse(user_text=None, signal=<WeakStateSignal.add: 6>)\n",
      "BAResponse(ba_text='Запускаю операцию добавления нового системного требования.', available_state_signals=[], available_global_signals=[], user_base_answer=None, is_userinput_locked=True)\n",
      "BAResponse(ba_text='Пожалуйста, введите новое системное требование.', available_state_signals=[SignalInfo(signal=<WeakStateSignal.cancel_operation: 0>, shortcut='Отменить действие', description=None)], available_global_signals=[], user_base_answer=None, is_userinput_locked=False)\n",
      "UserResponse(user_text='new sys req # 1', signal=None)\n",
      "BAResponse(ba_text='Системное требование успешно добавлено.', available_state_signals=[], available_global_signals=[], user_base_answer=None, is_userinput_locked=True)\n",
      "BAResponse(ba_text='Операция по добавлению нового системного требования завершена.', available_state_signals=[], available_global_signals=[], user_base_answer=None, is_userinput_locked=True)\n",
      "BAResponse(ba_text='Вы можете, при необходимости, редактировать, добавлять или удалять системные требования.', available_state_signals=[SignalInfo(signal=<WeakStateSignal.add: 6>, shortcut='Добавить требование', description=None), SignalInfo(signal=<WeakStateSignal.delete: 7>, shortcut='Удалить требование', description=None), SignalInfo(signal=<WeakStateSignal.edit: 8>, shortcut='Изменить требование', description=None)], available_global_signals=[SignalInfo(signal=<WeakGlobalSignal.next_stage: 0>, shortcut='Перейти на следующую стадию', description=None)], user_base_answer=None, is_userinput_locked=True)\n",
      "UserResponse(user_text=None, signal=<WeakStateSignal.delete: 7>)\n",
      "BAResponse(ba_text='Запускаю операцию удаления системного требования.', available_state_signals=[], available_global_signals=[], user_base_answer=None, is_userinput_locked=True)\n",
      "BAResponse(ba_text='Пожалуйста, введите идентификатор системного требования, которое необходимо удалить.', available_state_signals=[SignalInfo(signal=<WeakStateSignal.cancel_operation: 0>, shortcut='Отменить действие', description=None)], available_global_signals=[], user_base_answer=None, is_userinput_locked=False)\n",
      "UserResponse(user_text=None, signal=<WeakStateSignal.cancel_operation: 0>)\n",
      "BAResponse(ba_text='Операция по удалению системного требования завершена.', available_state_signals=[], available_global_signals=[], user_base_answer=None, is_userinput_locked=True)\n",
      "BAResponse(ba_text='Вы можете, при необходимости, редактировать, добавлять или удалять системные требования.', available_state_signals=[SignalInfo(signal=<WeakStateSignal.add: 6>, shortcut='Добавить требование', description=None), SignalInfo(signal=<WeakStateSignal.delete: 7>, shortcut='Удалить требование', description=None), SignalInfo(signal=<WeakStateSignal.edit: 8>, shortcut='Изменить требование', description=None)], available_global_signals=[SignalInfo(signal=<WeakGlobalSignal.next_stage: 0>, shortcut='Перейти на следующую стадию', description=None)], user_base_answer=None, is_userinput_locked=True)\n",
      "UserResponse(user_text=None, signal=<WeakStateSignal.delete: 7>)\n",
      "BAResponse(ba_text='Запускаю операцию удаления системного требования.', available_state_signals=[], available_global_signals=[], user_base_answer=None, is_userinput_locked=True)\n",
      "BAResponse(ba_text='Пожалуйста, введите идентификатор системного требования, которое необходимо удалить.', available_state_signals=[SignalInfo(signal=<WeakStateSignal.cancel_operation: 0>, shortcut='Отменить действие', description=None)], available_global_signals=[], user_base_answer=None, is_userinput_locked=False)\n",
      "UserResponse(user_text='1', signal=None)\n",
      "BAResponse(ba_text='Требование успешно удалено.', available_state_signals=[], available_global_signals=[], user_base_answer=None, is_userinput_locked=True)\n",
      "BAResponse(ba_text='Операция по удалению системного требования завершена.', available_state_signals=[], available_global_signals=[], user_base_answer=None, is_userinput_locked=True)\n",
      "BAResponse(ba_text='Вы можете, при необходимости, редактировать, добавлять или удалять системные требования.', available_state_signals=[SignalInfo(signal=<WeakStateSignal.add: 6>, shortcut='Добавить требование', description=None), SignalInfo(signal=<WeakStateSignal.delete: 7>, shortcut='Удалить требование', description=None), SignalInfo(signal=<WeakStateSignal.edit: 8>, shortcut='Изменить требование', description=None)], available_global_signals=[SignalInfo(signal=<WeakGlobalSignal.next_stage: 0>, shortcut='Перейти на следующую стадию', description=None)], user_base_answer=None, is_userinput_locked=True)\n",
      "UserResponse(user_text=None, signal=<WeakStateSignal.edit: 8>)\n",
      "BAResponse(ba_text='Запускаю операцию редактирования системного требования.', available_state_signals=[], available_global_signals=[], user_base_answer=None, is_userinput_locked=True)\n",
      "BAResponse(ba_text='Пожалуйста, введите идентификатор системного требования, которого необходимо отредактировать.', available_state_signals=[SignalInfo(signal=<WeakStateSignal.cancel_operation: 0>, shortcut='Отменить действие', description=None)], available_global_signals=[], user_base_answer=None, is_userinput_locked=True)\n",
      "UserResponse(user_text=None, signal=<WeakStateSignal.cancel_operation: 0>)\n",
      "BAResponse(ba_text='Операция по редактированию системного требования завершена.', available_state_signals=[], available_global_signals=[], user_base_answer=None, is_userinput_locked=True)\n",
      "BAResponse(ba_text='Вы можете, при необходимости, редактировать, добавлять или удалять системные требования.', available_state_signals=[SignalInfo(signal=<WeakStateSignal.add: 6>, shortcut='Добавить требование', description=None), SignalInfo(signal=<WeakStateSignal.delete: 7>, shortcut='Удалить требование', description=None), SignalInfo(signal=<WeakStateSignal.edit: 8>, shortcut='Изменить требование', description=None)], available_global_signals=[SignalInfo(signal=<WeakGlobalSignal.next_stage: 0>, shortcut='Перейти на следующую стадию', description=None)], user_base_answer=None, is_userinput_locked=True)\n",
      "UserResponse(user_text=None, signal=<WeakStateSignal.edit: 8>)\n",
      "BAResponse(ba_text='Запускаю операцию редактирования системного требования.', available_state_signals=[], available_global_signals=[], user_base_answer=None, is_userinput_locked=True)\n",
      "BAResponse(ba_text='Пожалуйста, введите идентификатор системного требования, которого необходимо отредактировать.', available_state_signals=[SignalInfo(signal=<WeakStateSignal.cancel_operation: 0>, shortcut='Отменить действие', description=None)], available_global_signals=[], user_base_answer=None, is_userinput_locked=True)\n",
      "UserResponse(user_text='1', signal=None)\n",
      "BAResponse(ba_text='Не удалось выбрать системное требование.', available_state_signals=[], available_global_signals=[], user_base_answer=None, is_userinput_locked=True)\n",
      "BAResponse(ba_text='Операция по редактированию системного требования завершена.', available_state_signals=[], available_global_signals=[], user_base_answer=None, is_userinput_locked=True)\n",
      "BAResponse(ba_text='Вы можете, при необходимости, редактировать, добавлять или удалять системные требования.', available_state_signals=[SignalInfo(signal=<WeakStateSignal.add: 6>, shortcut='Добавить требование', description=None), SignalInfo(signal=<WeakStateSignal.delete: 7>, shortcut='Удалить требование', description=None), SignalInfo(signal=<WeakStateSignal.edit: 8>, shortcut='Изменить требование', description=None)], available_global_signals=[SignalInfo(signal=<WeakGlobalSignal.next_stage: 0>, shortcut='Перейти на следующую стадию', description=None)], user_base_answer=None, is_userinput_locked=True)\n",
      "UserResponse(user_text=None, signal=<WeakStateSignal.edit: 8>)\n",
      "BAResponse(ba_text='Запускаю операцию редактирования системного требования.', available_state_signals=[], available_global_signals=[], user_base_answer=None, is_userinput_locked=True)\n",
      "BAResponse(ba_text='Пожалуйста, введите идентификатор системного требования, которого необходимо отредактировать.', available_state_signals=[SignalInfo(signal=<WeakStateSignal.cancel_operation: 0>, shortcut='Отменить действие', description=None)], available_global_signals=[], user_base_answer=None, is_userinput_locked=True)\n",
      "UserResponse(user_text='2', signal=None)\n",
      "BAResponse(ba_text=None, available_state_signals=[], available_global_signals=[], user_base_answer=None, is_userinput_locked=True)\n",
      "BAResponse(ba_text='Введите новую формулировку системного требования.', available_state_signals=[SignalInfo(signal=<WeakStateSignal.cancel_operation: 0>, shortcut='Отменить действие', description=None)], available_global_signals=[], user_base_answer=\"Системное требование 'Заглушка' #2\", is_userinput_locked=False)\n",
      "UserResponse(user_text='edited sys req # 2', signal=None)\n",
      "BAResponse(ba_text='Изменения успешно сохранены.', available_state_signals=[], available_global_signals=[], user_base_answer=None, is_userinput_locked=True)\n",
      "BAResponse(ba_text='Операция по редактированию системного требования завершена.', available_state_signals=[], available_global_signals=[], user_base_answer=None, is_userinput_locked=True)\n",
      "BAResponse(ba_text='Вы можете, при необходимости, редактировать, добавлять или удалять системные требования.', available_state_signals=[SignalInfo(signal=<WeakStateSignal.add: 6>, shortcut='Добавить требование', description=None), SignalInfo(signal=<WeakStateSignal.delete: 7>, shortcut='Удалить требование', description=None), SignalInfo(signal=<WeakStateSignal.edit: 8>, shortcut='Изменить требование', description=None)], available_global_signals=[SignalInfo(signal=<WeakGlobalSignal.next_stage: 0>, shortcut='Перейти на следующую стадию', description=None)], user_base_answer=None, is_userinput_locked=True)\n",
      "UserResponse(user_text=None, signal=<WeakGlobalSignal.next_stage: 0>)\n",
      "BAResponse(ba_text='Формирование системных требований завершено.', available_state_signals=[], available_global_signals=[], user_base_answer=None, is_userinput_locked=True)\n"
     ]
    }
   ],
   "source": [
    "cur_status = WeakReasonerStatus.waiting_interaction\n",
    "while True:\n",
    "    sleep(1)\n",
    "    if cur_status == WeakReasonerStatus.waiting_interaction:\n",
    "        ba_response, cur_status, done_state = sreq_comm.prepare_response()\n",
    "        print(ba_response)\n",
    "\n",
    "    elif cur_status == WeakReasonerStatus.waiting_response:\n",
    "        user_text = input()\n",
    "        user_response = UserResponse()\n",
    "        if user_text == \"BREAK\":\n",
    "            user_response.signal = WeakGlobalSignal.next_stage\n",
    "        elif user_text == 'ADD':\n",
    "            user_response.signal = WeakStateSignal.add\n",
    "        elif user_text == \"EDIT\":\n",
    "            user_response.signal = WeakStateSignal.edit\n",
    "        elif user_text == 'DELETE':\n",
    "            user_response.signal = WeakStateSignal.delete\n",
    "        elif user_text == 'CANCEL':\n",
    "            user_response.signal = WeakStateSignal.cancel_operation\n",
    "        else:\n",
    "            user_response.user_text = user_text\n",
    "        print(user_response)\n",
    "        sreq_comm.process_response(user_response)\n",
    "        cur_status = WeakReasonerStatus.waiting_interaction\n",
    "\n",
    "    elif cur_status == WeakReasonerStatus.done:\n",
    "        break\n",
    "    else:\n",
    "        raise ValueError"
   ]
  },
  {
   "cell_type": "code",
   "execution_count": 6,
   "id": "d45dfccc",
   "metadata": {},
   "outputs": [
    {
     "name": "stdout",
     "output_type": "stream",
     "text": [
      "{'0398e': SystemRequirement(id='0398e',\n",
      "                            statement='new sys req # 1',\n",
      "                            related_userstory_ids=[],\n",
      "                            related_scenarios_ids=[]),\n",
      " '2': SystemRequirement(id='2',\n",
      "                        statement='edited sys req # 2',\n",
      "                        related_userstory_ids=[],\n",
      "                        related_scenarios_ids=[]),\n",
      " '3': SystemRequirement(id='3',\n",
      "                        statement=\"Системное требование 'Заглушка' #3\",\n",
      "                        related_userstory_ids=[],\n",
      "                        related_scenarios_ids=[])}\n"
     ]
    }
   ],
   "source": [
    "pprint(reqspec_model.specification_struct.system_info.requirements)"
   ]
  },
  {
   "cell_type": "markdown",
   "id": "7841eb4c",
   "metadata": {},
   "source": [
    "### FuncRestrictionsCommunicator"
   ]
  },
  {
   "cell_type": "code",
   "execution_count": 3,
   "id": "48168a87",
   "metadata": {},
   "outputs": [],
   "source": [
    "frest_comm = FuncRestrictionsCommunicator(reqspec_model, mode='stub')"
   ]
  },
  {
   "cell_type": "code",
   "execution_count": 4,
   "id": "8457e8b9",
   "metadata": {},
   "outputs": [
    {
     "name": "stdout",
     "output_type": "stream",
     "text": [
      "FRestrClarifierCurrentState(base_state=<FRestrClarifierState.init: 0>,\n",
      "                            fadd_state=<FRestrAddState.init: 0>,\n",
      "                            fedit_state=<FRestrEditState.init: 0>,\n",
      "                            frdelete_state=<FRestrDeleteState.init: 0>,\n",
      "                            frrecomm_state=<FRestrRecommendState.init: 0>)\n"
     ]
    }
   ],
   "source": [
    "pprint(frest_comm.STATE)"
   ]
  },
  {
   "cell_type": "code",
   "execution_count": 5,
   "id": "69545841",
   "metadata": {},
   "outputs": [],
   "source": [
    "reqspec_model.specification_struct.reqs_info.functional = {\n",
    "    '1': FunctionalRequirement(id='1', statement='Функциональное требование #1', related_frestr_ids={'3'}),\n",
    "    '2': FunctionalRequirement(id='2', statement='Функциональное требование #2', related_frestr_ids={'1', '2'}),\n",
    "    '3': FunctionalRequirement(id='3', statement='Функциональное требование #3'),\n",
    "    '4': FunctionalRequirement(id='4', statement='Функциональное требование #4'),\n",
    "    '5': FunctionalRequirement(id='5', statement='Функциональное требование #5'),\n",
    "    '6': FunctionalRequirement(id='6', statement='Функциональное требование #6')\n",
    "}\n",
    "\n",
    "reqspec_model.specification_struct.reqs_info.functional_restrictions = {\n",
    "    '1': FunctionalRestriction(id='1', statement=\"Функциональное ограничение #1\"),\n",
    "    '2': FunctionalRestriction(id='2', statement=\"Функциональное ограничение #2\"),\n",
    "    '3': FunctionalRestriction(id='3', statement=\"Функциональное ограничение #3\")\n",
    "}"
   ]
  },
  {
   "cell_type": "code",
   "execution_count": 6,
   "id": "5635e1b8",
   "metadata": {},
   "outputs": [
    {
     "name": "stdout",
     "output_type": "stream",
     "text": [
      "BAResponse(ba_text='Приступаю к добавлению функциональных ограничений', available_state_signals=[], available_global_signals=[], user_base_answer=None, is_userinput_locked=True)\n",
      "BAResponse(ba_text='Вы можете, при необходимости, добавить, удалить, отредактировать или получить рекомендацию функционального ограничения.', available_state_signals=[], available_global_signals=[SignalInfo(signal=<WeakGlobalSignal.next_stage: 0>, shortcut='Перейти на следующую стадию', description=None)], user_base_answer=None, is_userinput_locked=True)\n",
      "UserResponse(user_text=None, signal=<WeakStateSignal.add: 6>)\n",
      "BAResponse(ba_text='Запускаю операцию добавления функционального ограничения.', available_state_signals=[], available_global_signals=[], user_base_answer=None, is_userinput_locked=True)\n",
      "BAResponse(ba_text='Пожалуйста, введите идентификатор функционального требования, к которому будет относиться новое ограничение.', available_state_signals=[SignalInfo(signal=<WeakStateSignal.cancel_operation: 0>, shortcut='Отменить действие', description=None)], available_global_signals=[], user_base_answer=None, is_userinput_locked=False)\n",
      "UserResponse(user_text=None, signal=<WeakStateSignal.cancel_operation: 0>)\n",
      "BAResponse(ba_text='Операция по добавлению нового функционального ограничения завершена', available_state_signals=[], available_global_signals=[], user_base_answer=None, is_userinput_locked=True)\n",
      "BAResponse(ba_text='Вы можете, при необходимости, добавить, удалить, отредактировать или получить рекомендацию функционального ограничения.', available_state_signals=[], available_global_signals=[SignalInfo(signal=<WeakGlobalSignal.next_stage: 0>, shortcut='Перейти на следующую стадию', description=None)], user_base_answer=None, is_userinput_locked=True)\n",
      "UserResponse(user_text=None, signal=<WeakStateSignal.add: 6>)\n",
      "BAResponse(ba_text='Запускаю операцию добавления функционального ограничения.', available_state_signals=[], available_global_signals=[], user_base_answer=None, is_userinput_locked=True)\n",
      "BAResponse(ba_text='Пожалуйста, введите идентификатор функционального требования, к которому будет относиться новое ограничение.', available_state_signals=[SignalInfo(signal=<WeakStateSignal.cancel_operation: 0>, shortcut='Отменить действие', description=None)], available_global_signals=[], user_base_answer=None, is_userinput_locked=False)\n",
      "UserResponse(user_text='1', signal=None)\n",
      "BAResponse(ba_text='Функциональное требование успешно выбрано.', available_state_signals=[], available_global_signals=[], user_base_answer=None, is_userinput_locked=True)\n",
      "BAResponse(ba_text='Пожалуйста, введите новое функциональное ограничение.', available_state_signals=[SignalInfo(signal=<WeakStateSignal.cancel_operation: 0>, shortcut='Отменить действие', description=None)], available_global_signals=[], user_base_answer=None, is_userinput_locked=False)\n",
      "UserResponse(user_text='new f restr #1', signal=None)\n",
      "BAResponse(ba_text='Функциональное ограничение успешно добавлено.', available_state_signals=[], available_global_signals=[], user_base_answer=None, is_userinput_locked=True)\n",
      "BAResponse(ba_text='Операция по добавлению нового функционального ограничения завершена', available_state_signals=[], available_global_signals=[], user_base_answer=None, is_userinput_locked=True)\n",
      "BAResponse(ba_text='Вы можете, при необходимости, добавить, удалить, отредактировать или получить рекомендацию функционального ограничения.', available_state_signals=[], available_global_signals=[SignalInfo(signal=<WeakGlobalSignal.next_stage: 0>, shortcut='Перейти на следующую стадию', description=None)], user_base_answer=None, is_userinput_locked=True)\n",
      "UserResponse(user_text=None, signal=<WeakStateSignal.delete: 7>)\n",
      "BAResponse(ba_text='Запускаю операцию удаления функционального ограничения.', available_state_signals=[], available_global_signals=[], user_base_answer=None, is_userinput_locked=True)\n",
      "BAResponse(ba_text='Пожалуйста, введите идентификатор функционального ограничения, которое необходимо удалить.', available_state_signals=[], available_global_signals=[], user_base_answer=None, is_userinput_locked=False)\n",
      "UserResponse(user_text=None, signal=<WeakStateSignal.cancel_operation: 0>)\n",
      "BAResponse(ba_text='Операция по удалению функционального ограничения завершена.', available_state_signals=[], available_global_signals=[], user_base_answer=None, is_userinput_locked=True)\n",
      "BAResponse(ba_text='Вы можете, при необходимости, добавить, удалить, отредактировать или получить рекомендацию функционального ограничения.', available_state_signals=[], available_global_signals=[SignalInfo(signal=<WeakGlobalSignal.next_stage: 0>, shortcut='Перейти на следующую стадию', description=None)], user_base_answer=None, is_userinput_locked=True)\n",
      "UserResponse(user_text=None, signal=<WeakStateSignal.delete: 7>)\n",
      "BAResponse(ba_text='Запускаю операцию удаления функционального ограничения.', available_state_signals=[], available_global_signals=[], user_base_answer=None, is_userinput_locked=True)\n",
      "BAResponse(ba_text='Пожалуйста, введите идентификатор функционального ограничения, которое необходимо удалить.', available_state_signals=[], available_global_signals=[], user_base_answer=None, is_userinput_locked=False)\n",
      "UserResponse(user_text='2', signal=None)\n",
      "BAResponse(ba_text='Функциональное ограничение успешно удалено.', available_state_signals=[], available_global_signals=[], user_base_answer=None, is_userinput_locked=True)\n",
      "BAResponse(ba_text='Операция по удалению функционального ограничения завершена.', available_state_signals=[], available_global_signals=[], user_base_answer=None, is_userinput_locked=True)\n",
      "BAResponse(ba_text='Вы можете, при необходимости, добавить, удалить, отредактировать или получить рекомендацию функционального ограничения.', available_state_signals=[], available_global_signals=[SignalInfo(signal=<WeakGlobalSignal.next_stage: 0>, shortcut='Перейти на следующую стадию', description=None)], user_base_answer=None, is_userinput_locked=True)\n",
      "UserResponse(user_text=None, signal=<WeakStateSignal.delete: 7>)\n",
      "BAResponse(ba_text='Запускаю операцию удаления функционального ограничения.', available_state_signals=[], available_global_signals=[], user_base_answer=None, is_userinput_locked=True)\n",
      "BAResponse(ba_text='Пожалуйста, введите идентификатор функционального ограничения, которое необходимо удалить.', available_state_signals=[], available_global_signals=[], user_base_answer=None, is_userinput_locked=False)\n",
      "UserResponse(user_text='9', signal=None)\n",
      "BAResponse(ba_text='Не удалось выбрать функциональное ограничение.', available_state_signals=[], available_global_signals=[], user_base_answer=None, is_userinput_locked=True)\n",
      "BAResponse(ba_text='Операция по удалению функционального ограничения завершена.', available_state_signals=[], available_global_signals=[], user_base_answer=None, is_userinput_locked=True)\n",
      "BAResponse(ba_text='Вы можете, при необходимости, добавить, удалить, отредактировать или получить рекомендацию функционального ограничения.', available_state_signals=[], available_global_signals=[SignalInfo(signal=<WeakGlobalSignal.next_stage: 0>, shortcut='Перейти на следующую стадию', description=None)], user_base_answer=None, is_userinput_locked=True)\n",
      "UserResponse(user_text=None, signal=<WeakStateSignal.add: 6>)\n",
      "BAResponse(ba_text='Запускаю операцию добавления функционального ограничения.', available_state_signals=[], available_global_signals=[], user_base_answer=None, is_userinput_locked=True)\n",
      "BAResponse(ba_text='Пожалуйста, введите идентификатор функционального требования, к которому будет относиться новое ограничение.', available_state_signals=[SignalInfo(signal=<WeakStateSignal.cancel_operation: 0>, shortcut='Отменить действие', description=None)], available_global_signals=[], user_base_answer=None, is_userinput_locked=False)\n",
      "UserResponse(user_text='0', signal=None)\n",
      "BAResponse(ba_text='Не удалось найти функциональное требование.', available_state_signals=[], available_global_signals=[], user_base_answer=None, is_userinput_locked=True)\n",
      "BAResponse(ba_text='Операция по добавлению нового функционального ограничения завершена', available_state_signals=[], available_global_signals=[], user_base_answer=None, is_userinput_locked=True)\n",
      "BAResponse(ba_text='Вы можете, при необходимости, добавить, удалить, отредактировать или получить рекомендацию функционального ограничения.', available_state_signals=[], available_global_signals=[SignalInfo(signal=<WeakGlobalSignal.next_stage: 0>, shortcut='Перейти на следующую стадию', description=None)], user_base_answer=None, is_userinput_locked=True)\n",
      "UserResponse(user_text=None, signal=<WeakStateSignal.edit: 8>)\n",
      "BAResponse(ba_text='Запускаю операцию редактирования функционального ограничения.', available_state_signals=[], available_global_signals=[], user_base_answer=None, is_userinput_locked=True)\n",
      "BAResponse(ba_text='Пожалуйста, введите идентификатор функционального ограничения, которое необходимо отредактировать.', available_state_signals=[SignalInfo(signal=<WeakStateSignal.cancel_operation: 0>, shortcut='Отменить действие', description=None)], available_global_signals=[], user_base_answer=None, is_userinput_locked=True)\n",
      "UserResponse(user_text=None, signal=<WeakStateSignal.cancel_operation: 0>)\n",
      "BAResponse(ba_text='Операция по редактированию функционального ограничения завершена.', available_state_signals=[], available_global_signals=[], user_base_answer=None, is_userinput_locked=True)\n",
      "BAResponse(ba_text='Вы можете, при необходимости, добавить, удалить, отредактировать или получить рекомендацию функционального ограничения.', available_state_signals=[], available_global_signals=[SignalInfo(signal=<WeakGlobalSignal.next_stage: 0>, shortcut='Перейти на следующую стадию', description=None)], user_base_answer=None, is_userinput_locked=True)\n",
      "UserResponse(user_text=None, signal=<WeakStateSignal.edit: 8>)\n",
      "BAResponse(ba_text='Запускаю операцию редактирования функционального ограничения.', available_state_signals=[], available_global_signals=[], user_base_answer=None, is_userinput_locked=True)\n",
      "BAResponse(ba_text='Пожалуйста, введите идентификатор функционального ограничения, которое необходимо отредактировать.', available_state_signals=[SignalInfo(signal=<WeakStateSignal.cancel_operation: 0>, shortcut='Отменить действие', description=None)], available_global_signals=[], user_base_answer=None, is_userinput_locked=True)\n",
      "UserResponse(user_text='8', signal=None)\n",
      "BAResponse(ba_text='Не удалось выбрать функциональное ограничение.', available_state_signals=[], available_global_signals=[], user_base_answer=None, is_userinput_locked=True)\n",
      "BAResponse(ba_text='Операция по редактированию функционального ограничения завершена.', available_state_signals=[], available_global_signals=[], user_base_answer=None, is_userinput_locked=True)\n",
      "BAResponse(ba_text='Вы можете, при необходимости, добавить, удалить, отредактировать или получить рекомендацию функционального ограничения.', available_state_signals=[], available_global_signals=[SignalInfo(signal=<WeakGlobalSignal.next_stage: 0>, shortcut='Перейти на следующую стадию', description=None)], user_base_answer=None, is_userinput_locked=True)\n",
      "UserResponse(user_text=None, signal=<WeakStateSignal.edit: 8>)\n",
      "BAResponse(ba_text='Запускаю операцию редактирования функционального ограничения.', available_state_signals=[], available_global_signals=[], user_base_answer=None, is_userinput_locked=True)\n",
      "BAResponse(ba_text='Пожалуйста, введите идентификатор функционального ограничения, которое необходимо отредактировать.', available_state_signals=[SignalInfo(signal=<WeakStateSignal.cancel_operation: 0>, shortcut='Отменить действие', description=None)], available_global_signals=[], user_base_answer=None, is_userinput_locked=True)\n",
      "UserResponse(user_text='3', signal=None)\n",
      "BAResponse(ba_text=None, available_state_signals=[], available_global_signals=[], user_base_answer=None, is_userinput_locked=True)\n",
      "BAResponse(ba_text='Введите новую формулировку функционального ограничения.', available_state_signals=[SignalInfo(signal=<WeakStateSignal.cancel_operation: 0>, shortcut='Отменить действие', description=None)], available_global_signals=[], user_base_answer='Функциональное ограничение #3', is_userinput_locked=False)\n",
      "UserResponse(user_text='edited f restr #3', signal=None)\n",
      "BAResponse(ba_text='Изменения успешно сохранены.', available_state_signals=[], available_global_signals=[], user_base_answer=None, is_userinput_locked=True)\n",
      "BAResponse(ba_text='Операция по редактированию функционального ограничения завершена.', available_state_signals=[], available_global_signals=[], user_base_answer=None, is_userinput_locked=True)\n",
      "BAResponse(ba_text='Вы можете, при необходимости, добавить, удалить, отредактировать или получить рекомендацию функционального ограничения.', available_state_signals=[], available_global_signals=[SignalInfo(signal=<WeakGlobalSignal.next_stage: 0>, shortcut='Перейти на следующую стадию', description=None)], user_base_answer=None, is_userinput_locked=True)\n",
      "UserResponse(user_text=None, signal=<WeakStateSignal.edit: 8>)\n",
      "BAResponse(ba_text='Запускаю операцию редактирования функционального ограничения.', available_state_signals=[], available_global_signals=[], user_base_answer=None, is_userinput_locked=True)\n",
      "BAResponse(ba_text='Пожалуйста, введите идентификатор функционального ограничения, которое необходимо отредактировать.', available_state_signals=[SignalInfo(signal=<WeakStateSignal.cancel_operation: 0>, shortcut='Отменить действие', description=None)], available_global_signals=[], user_base_answer=None, is_userinput_locked=True)\n",
      "UserResponse(user_text='3', signal=None)\n",
      "BAResponse(ba_text=None, available_state_signals=[], available_global_signals=[], user_base_answer=None, is_userinput_locked=True)\n",
      "BAResponse(ba_text='Введите новую формулировку функционального ограничения.', available_state_signals=[SignalInfo(signal=<WeakStateSignal.cancel_operation: 0>, shortcut='Отменить действие', description=None)], available_global_signals=[], user_base_answer='edited f restr #3', is_userinput_locked=False)\n",
      "UserResponse(user_text=None, signal=<WeakStateSignal.cancel_operation: 0>)\n",
      "BAResponse(ba_text='Операция по редактированию функционального ограничения завершена.', available_state_signals=[], available_global_signals=[], user_base_answer=None, is_userinput_locked=True)\n",
      "BAResponse(ba_text='Вы можете, при необходимости, добавить, удалить, отредактировать или получить рекомендацию функционального ограничения.', available_state_signals=[], available_global_signals=[SignalInfo(signal=<WeakGlobalSignal.next_stage: 0>, shortcut='Перейти на следующую стадию', description=None)], user_base_answer=None, is_userinput_locked=True)\n",
      "UserResponse(user_text=None, signal=<WeakStateSignal.recommend_new: 9>)\n",
      "BAResponse(ba_text='Начинаю автоматическое формирование возможного/релевантного ограничения.', available_state_signals=[], available_global_signals=[], user_base_answer=None, is_userinput_locked=True)\n",
      "BAResponse(ba_text='Пожалуйста, введите идентификатор функционального требования, на основе которой будет предложено ограничение.', available_state_signals=[SignalInfo(signal=<WeakStateSignal.cancel_operation: 0>, shortcut='Отменить действие', description=None)], available_global_signals=[], user_base_answer=None, is_userinput_locked=False)\n",
      "UserResponse(user_text='0', signal=None)\n",
      "BAResponse(ba_text='Не удалось найти функциональное требование.', available_state_signals=[], available_global_signals=[], user_base_answer=None, is_userinput_locked=True)\n",
      "BAResponse(ba_text='Формирование и обработка рекомендации завершены.', available_state_signals=[], available_global_signals=[], user_base_answer=None, is_userinput_locked=True)\n",
      "BAResponse(ba_text='Вы можете, при необходимости, добавить, удалить, отредактировать или получить рекомендацию функционального ограничения.', available_state_signals=[], available_global_signals=[SignalInfo(signal=<WeakGlobalSignal.next_stage: 0>, shortcut='Перейти на следующую стадию', description=None)], user_base_answer=None, is_userinput_locked=True)\n",
      "UserResponse(user_text=None, signal=<WeakStateSignal.recommend_new: 9>)\n",
      "BAResponse(ba_text='Начинаю автоматическое формирование возможного/релевантного ограничения.', available_state_signals=[], available_global_signals=[], user_base_answer=None, is_userinput_locked=True)\n",
      "BAResponse(ba_text='Пожалуйста, введите идентификатор функционального требования, на основе которой будет предложено ограничение.', available_state_signals=[SignalInfo(signal=<WeakStateSignal.cancel_operation: 0>, shortcut='Отменить действие', description=None)], available_global_signals=[], user_base_answer=None, is_userinput_locked=False)\n",
      "UserResponse(user_text=None, signal=<WeakStateSignal.cancel_operation: 0>)\n",
      "BAResponse(ba_text='Формирование и обработка рекомендации завершены.', available_state_signals=[], available_global_signals=[], user_base_answer=None, is_userinput_locked=True)\n",
      "BAResponse(ba_text='Вы можете, при необходимости, добавить, удалить, отредактировать или получить рекомендацию функционального ограничения.', available_state_signals=[], available_global_signals=[SignalInfo(signal=<WeakGlobalSignal.next_stage: 0>, shortcut='Перейти на следующую стадию', description=None)], user_base_answer=None, is_userinput_locked=True)\n",
      "UserResponse(user_text=None, signal=<WeakStateSignal.recommend_new: 9>)\n",
      "BAResponse(ba_text='Начинаю автоматическое формирование возможного/релевантного ограничения.', available_state_signals=[], available_global_signals=[], user_base_answer=None, is_userinput_locked=True)\n",
      "BAResponse(ba_text='Пожалуйста, введите идентификатор функционального требования, на основе которой будет предложено ограничение.', available_state_signals=[SignalInfo(signal=<WeakStateSignal.cancel_operation: 0>, shortcut='Отменить действие', description=None)], available_global_signals=[], user_base_answer=None, is_userinput_locked=False)\n",
      "UserResponse(user_text='1', signal=None)\n",
      "BAResponse(ba_text='Функциональное требование успешно выбрано.', available_state_signals=[], available_global_signals=[], user_base_answer=None, is_userinput_locked=True)\n",
      "BAResponse(ba_text=\"Примите решение по предложенному ограничению: добавить его в ТЗ или отклонить: \\nФункциональное ограничение 'Заглушка'\", available_state_signals=[SignalInfo(signal=<WeakStateSignal.approve: 4>, shortcut='Добавить ограничение в ТЗ', description=None), SignalInfo(signal=<WeakStateSignal.decline: 5>, shortcut='Отклонить ограничение', description=None), SignalInfo(signal=<WeakStateSignal.cancel_operation: 0>, shortcut='Отменить действие', description=None)], available_global_signals=[], user_base_answer=None, is_userinput_locked=True)\n",
      "UserResponse(user_text=None, signal=<WeakStateSignal.approve: 4>)\n",
      "BAResponse(ba_text='Формирование и обработка рекомендации завершены.', available_state_signals=[], available_global_signals=[], user_base_answer=None, is_userinput_locked=True)\n",
      "BAResponse(ba_text='Вы можете, при необходимости, добавить, удалить, отредактировать или получить рекомендацию функционального ограничения.', available_state_signals=[], available_global_signals=[SignalInfo(signal=<WeakGlobalSignal.next_stage: 0>, shortcut='Перейти на следующую стадию', description=None)], user_base_answer=None, is_userinput_locked=True)\n",
      "UserResponse(user_text=None, signal=<WeakStateSignal.recommend_new: 9>)\n",
      "BAResponse(ba_text='Начинаю автоматическое формирование возможного/релевантного ограничения.', available_state_signals=[], available_global_signals=[], user_base_answer=None, is_userinput_locked=True)\n",
      "BAResponse(ba_text='Пожалуйста, введите идентификатор функционального требования, на основе которой будет предложено ограничение.', available_state_signals=[SignalInfo(signal=<WeakStateSignal.cancel_operation: 0>, shortcut='Отменить действие', description=None)], available_global_signals=[], user_base_answer=None, is_userinput_locked=False)\n",
      "UserResponse(user_text='3', signal=None)\n",
      "BAResponse(ba_text='Функциональное требование успешно выбрано.', available_state_signals=[], available_global_signals=[], user_base_answer=None, is_userinput_locked=True)\n",
      "BAResponse(ba_text=\"Примите решение по предложенному ограничению: добавить его в ТЗ или отклонить: \\nФункциональное ограничение 'Заглушка'\", available_state_signals=[SignalInfo(signal=<WeakStateSignal.approve: 4>, shortcut='Добавить ограничение в ТЗ', description=None), SignalInfo(signal=<WeakStateSignal.decline: 5>, shortcut='Отклонить ограничение', description=None), SignalInfo(signal=<WeakStateSignal.cancel_operation: 0>, shortcut='Отменить действие', description=None)], available_global_signals=[], user_base_answer=None, is_userinput_locked=True)\n",
      "UserResponse(user_text=None, signal=<WeakStateSignal.decline: 5>)\n",
      "BAResponse(ba_text='Формирование и обработка рекомендации завершены.', available_state_signals=[], available_global_signals=[], user_base_answer=None, is_userinput_locked=True)\n",
      "BAResponse(ba_text='Вы можете, при необходимости, добавить, удалить, отредактировать или получить рекомендацию функционального ограничения.', available_state_signals=[], available_global_signals=[SignalInfo(signal=<WeakGlobalSignal.next_stage: 0>, shortcut='Перейти на следующую стадию', description=None)], user_base_answer=None, is_userinput_locked=True)\n",
      "UserResponse(user_text=None, signal=<WeakGlobalSignal.next_stage: 0>)\n",
      "BAResponse(ba_text='Добавление функциональных ограничений завершено.', available_state_signals=[], available_global_signals=[], user_base_answer=None, is_userinput_locked=True)\n"
     ]
    }
   ],
   "source": [
    "cur_status = WeakReasonerStatus.waiting_interaction\n",
    "while True:\n",
    "    sleep(1)\n",
    "    if cur_status == WeakReasonerStatus.waiting_interaction:\n",
    "        ba_response, cur_status, done_state = frest_comm.prepare_response()\n",
    "        print(ba_response)\n",
    "\n",
    "    elif cur_status == WeakReasonerStatus.waiting_response:\n",
    "        user_text = input()\n",
    "        user_response = UserResponse()\n",
    "        if user_text == \"BREAK\":\n",
    "            user_response.signal = WeakGlobalSignal.next_stage\n",
    "        elif user_text == 'RECOMM':\n",
    "            user_response.signal = WeakStateSignal.recommend_new\n",
    "        elif user_text == 'DELETE':\n",
    "            user_response.signal = WeakStateSignal.delete\n",
    "        elif user_text == 'CANCEL':\n",
    "            user_response.signal = WeakStateSignal.cancel_operation\n",
    "        elif user_text == 'APPROVE':\n",
    "            user_response.signal = WeakStateSignal.approve\n",
    "        elif user_text == 'DECLINE':\n",
    "            user_response.signal = WeakStateSignal.decline\n",
    "        elif user_text == 'ADD':\n",
    "            user_response.signal = WeakStateSignal.add\n",
    "        elif user_text == 'EDIT':\n",
    "            user_response.signal = WeakStateSignal.edit\n",
    "        else:\n",
    "            user_response.user_text = user_text\n",
    "        print(user_response)\n",
    "        frest_comm.process_response(user_response)\n",
    "        cur_status = WeakReasonerStatus.waiting_interaction\n",
    "\n",
    "    elif cur_status == WeakReasonerStatus.done:\n",
    "        break\n",
    "    else:\n",
    "        raise ValueError"
   ]
  },
  {
   "cell_type": "code",
   "execution_count": 7,
   "id": "8fab8ae0",
   "metadata": {},
   "outputs": [
    {
     "name": "stdout",
     "output_type": "stream",
     "text": [
      "{'1': FunctionalRestriction(id='1',\n",
      "                            statement='Функциональное ограничение #1',\n",
      "                            related_userstory_ids=set(),\n",
      "                            related_scenarios_ids=set(),\n",
      "                            related_freq_ids=set()),\n",
      " '3': FunctionalRestriction(id='3',\n",
      "                            statement='edited f restr #3',\n",
      "                            related_userstory_ids=set(),\n",
      "                            related_scenarios_ids=set(),\n",
      "                            related_freq_ids=set()),\n",
      " '758b5': FunctionalRestriction(id='758b5',\n",
      "                                statement='Функциональное ограничение '\n",
      "                                          \"'Заглушка'\",\n",
      "                                related_userstory_ids=set(),\n",
      "                                related_scenarios_ids=set(),\n",
      "                                related_freq_ids={'1'}),\n",
      " 'e5da1': FunctionalRestriction(id='e5da1',\n",
      "                                statement='new f restr #1',\n",
      "                                related_userstory_ids=set(),\n",
      "                                related_scenarios_ids=set(),\n",
      "                                related_freq_ids={'1'})}\n"
     ]
    }
   ],
   "source": [
    "pprint(reqspec_model.specification_struct.reqs_info.functional_restrictions)"
   ]
  },
  {
   "cell_type": "code",
   "execution_count": 8,
   "id": "4f901d01",
   "metadata": {},
   "outputs": [
    {
     "name": "stdout",
     "output_type": "stream",
     "text": [
      "defaultdict(<class 'list'>,\n",
      "            {'3': [FunctionalRestriction(id='81c32',\n",
      "                                         statement='Функциональное ограничение '\n",
      "                                                   \"'Заглушка'\",\n",
      "                                         related_userstory_ids=set(),\n",
      "                                         related_scenarios_ids=set(),\n",
      "                                         related_freq_ids={'3'})]})\n"
     ]
    }
   ],
   "source": [
    "pprint(reqspec_model.states_valuable_history[WeakReasonerState.funcrestr_ccrud]['declined_frestrs'])"
   ]
  },
  {
   "cell_type": "markdown",
   "id": "2889e55f",
   "metadata": {},
   "source": [
    "### SysRestrictionsCommunicator"
   ]
  },
  {
   "cell_type": "code",
   "execution_count": 3,
   "id": "7970ab26",
   "metadata": {},
   "outputs": [],
   "source": [
    "srest_comm = SysRestrictionsCommunicator(reqspec_model, mode='stub')"
   ]
  },
  {
   "cell_type": "code",
   "execution_count": 4,
   "id": "0748ec04",
   "metadata": {},
   "outputs": [
    {
     "name": "stdout",
     "output_type": "stream",
     "text": [
      "SRestrClarifierCurrentState(base_state=<SRestrClarifierState.init: 0>,\n",
      "                            sadd_state=<SRestrAddState.init: 0>,\n",
      "                            sedit_state=<SRestrEditState.init: 0>,\n",
      "                            srdelete_state=<SRestrDeleteState.init: 0>,\n",
      "                            srrecomm_state=<SRestrRecommendState.init: 0>)\n"
     ]
    }
   ],
   "source": [
    "pprint(srest_comm.STATE)"
   ]
  },
  {
   "cell_type": "code",
   "execution_count": 5,
   "id": "7ecb7565",
   "metadata": {},
   "outputs": [],
   "source": [
    "reqspec_model.specification_struct.system_info.requirements = {\n",
    "    '1': SystemRequirement(id='1', statement='Системное требование #1', related_srestr_ids={'3'}),\n",
    "    '2': SystemRequirement(id='2', statement='Системное требование #2', related_srestr_ids={'1', '2'}),\n",
    "    '3': SystemRequirement(id='3', statement='Системное требование #3'),\n",
    "    '4': SystemRequirement(id='4', statement='Системное требование #4'),\n",
    "    '5': SystemRequirement(id='5', statement='Системное требование #5'),\n",
    "    '6': SystemRequirement(id='6', statement='Системное требование #6')\n",
    "}\n",
    "\n",
    "reqspec_model.specification_struct.system_info.restrictions = {\n",
    "    '1': SystemRestriction(id='1', statement=\"Системное ограничение #1\"),\n",
    "    '2': SystemRestriction(id='2', statement=\"Системное ограничение #2\"),\n",
    "    '3': SystemRestriction(id='3', statement=\"Системное ограничение #3\")\n",
    "}"
   ]
  },
  {
   "cell_type": "code",
   "execution_count": 6,
   "id": "3a85c70b",
   "metadata": {},
   "outputs": [
    {
     "name": "stdout",
     "output_type": "stream",
     "text": [
      "BAResponse(ba_text='Приступаю к добавлению системных ограничений', available_state_signals=[], available_global_signals=[], user_base_answer=None, is_userinput_locked=True)\n",
      "BAResponse(ba_text='Вы можете, при необходимости, добавить, удалить, отредактировать системное ограничение или получить рекомендацию ограничения.', available_state_signals=[], available_global_signals=[SignalInfo(signal=<WeakGlobalSignal.next_stage: 0>, shortcut='Перейти на следующую стадию', description=None)], user_base_answer=None, is_userinput_locked=True)\n",
      "UserResponse(user_text=None, signal=<WeakStateSignal.recommend_new: 9>)\n",
      "BAResponse(ba_text='Начинаю автоматическое формирование возможного/релевантного ограничения.', available_state_signals=[], available_global_signals=[], user_base_answer=None, is_userinput_locked=True)\n",
      "BAResponse(ba_text='Пожалуйста, введите идентификатор системного требования, на основе которой будет предложено ограничение.', available_state_signals=[SignalInfo(signal=<WeakStateSignal.cancel_operation: 0>, shortcut='Отменить действие', description=None)], available_global_signals=[], user_base_answer=None, is_userinput_locked=False)\n",
      "UserResponse(user_text='1', signal=None)\n",
      "BAResponse(ba_text='Системное требование успешно выбрано.', available_state_signals=[], available_global_signals=[], user_base_answer=None, is_userinput_locked=True)\n",
      "BAResponse(ba_text=\"Примите решение по предложенному ограничению: добавить его в ТЗ или отклонить: \\nСистемное ограничение 'Заглушка'\", available_state_signals=[SignalInfo(signal=<WeakStateSignal.approve: 4>, shortcut='Добавить ограничение в ТЗ', description=None), SignalInfo(signal=<WeakStateSignal.decline: 5>, shortcut='Отклонить ограничение', description=None), SignalInfo(signal=<WeakStateSignal.cancel_operation: 0>, shortcut='Отменить действие', description=None)], available_global_signals=[], user_base_answer=None, is_userinput_locked=True)\n",
      "UserResponse(user_text=None, signal=<WeakStateSignal.approve: 4>)\n",
      "BAResponse(ba_text='Формирование и обработка рекомендации завершены.', available_state_signals=[], available_global_signals=[], user_base_answer=None, is_userinput_locked=True)\n",
      "BAResponse(ba_text='Вы можете, при необходимости, добавить, удалить, отредактировать системное ограничение или получить рекомендацию ограничения.', available_state_signals=[], available_global_signals=[SignalInfo(signal=<WeakGlobalSignal.next_stage: 0>, shortcut='Перейти на следующую стадию', description=None)], user_base_answer=None, is_userinput_locked=True)\n",
      "UserResponse(user_text=None, signal=<WeakStateSignal.recommend_new: 9>)\n",
      "BAResponse(ba_text='Начинаю автоматическое формирование возможного/релевантного ограничения.', available_state_signals=[], available_global_signals=[], user_base_answer=None, is_userinput_locked=True)\n",
      "BAResponse(ba_text='Пожалуйста, введите идентификатор системного требования, на основе которой будет предложено ограничение.', available_state_signals=[SignalInfo(signal=<WeakStateSignal.cancel_operation: 0>, shortcut='Отменить действие', description=None)], available_global_signals=[], user_base_answer=None, is_userinput_locked=False)\n",
      "UserResponse(user_text=None, signal=<WeakStateSignal.cancel_operation: 0>)\n",
      "BAResponse(ba_text='Формирование и обработка рекомендации завершены.', available_state_signals=[], available_global_signals=[], user_base_answer=None, is_userinput_locked=True)\n",
      "BAResponse(ba_text='Вы можете, при необходимости, добавить, удалить, отредактировать системное ограничение или получить рекомендацию ограничения.', available_state_signals=[], available_global_signals=[SignalInfo(signal=<WeakGlobalSignal.next_stage: 0>, shortcut='Перейти на следующую стадию', description=None)], user_base_answer=None, is_userinput_locked=True)\n",
      "UserResponse(user_text=None, signal=<WeakStateSignal.recommend_new: 9>)\n",
      "BAResponse(ba_text='Начинаю автоматическое формирование возможного/релевантного ограничения.', available_state_signals=[], available_global_signals=[], user_base_answer=None, is_userinput_locked=True)\n",
      "BAResponse(ba_text='Пожалуйста, введите идентификатор системного требования, на основе которой будет предложено ограничение.', available_state_signals=[SignalInfo(signal=<WeakStateSignal.cancel_operation: 0>, shortcut='Отменить действие', description=None)], available_global_signals=[], user_base_answer=None, is_userinput_locked=False)\n",
      "UserResponse(user_text='0', signal=None)\n",
      "BAResponse(ba_text='Не удалось найти системное требование.', available_state_signals=[], available_global_signals=[], user_base_answer=None, is_userinput_locked=True)\n",
      "BAResponse(ba_text='Формирование и обработка рекомендации завершены.', available_state_signals=[], available_global_signals=[], user_base_answer=None, is_userinput_locked=True)\n",
      "BAResponse(ba_text='Вы можете, при необходимости, добавить, удалить, отредактировать системное ограничение или получить рекомендацию ограничения.', available_state_signals=[], available_global_signals=[SignalInfo(signal=<WeakGlobalSignal.next_stage: 0>, shortcut='Перейти на следующую стадию', description=None)], user_base_answer=None, is_userinput_locked=True)\n",
      "UserResponse(user_text=None, signal=<WeakStateSignal.recommend_new: 9>)\n",
      "BAResponse(ba_text='Начинаю автоматическое формирование возможного/релевантного ограничения.', available_state_signals=[], available_global_signals=[], user_base_answer=None, is_userinput_locked=True)\n",
      "BAResponse(ba_text='Пожалуйста, введите идентификатор системного требования, на основе которой будет предложено ограничение.', available_state_signals=[SignalInfo(signal=<WeakStateSignal.cancel_operation: 0>, shortcut='Отменить действие', description=None)], available_global_signals=[], user_base_answer=None, is_userinput_locked=False)\n",
      "UserResponse(user_text='3', signal=None)\n",
      "BAResponse(ba_text='Системное требование успешно выбрано.', available_state_signals=[], available_global_signals=[], user_base_answer=None, is_userinput_locked=True)\n",
      "BAResponse(ba_text=\"Примите решение по предложенному ограничению: добавить его в ТЗ или отклонить: \\nСистемное ограничение 'Заглушка'\", available_state_signals=[SignalInfo(signal=<WeakStateSignal.approve: 4>, shortcut='Добавить ограничение в ТЗ', description=None), SignalInfo(signal=<WeakStateSignal.decline: 5>, shortcut='Отклонить ограничение', description=None), SignalInfo(signal=<WeakStateSignal.cancel_operation: 0>, shortcut='Отменить действие', description=None)], available_global_signals=[], user_base_answer=None, is_userinput_locked=True)\n",
      "UserResponse(user_text=None, signal=<WeakStateSignal.decline: 5>)\n",
      "BAResponse(ba_text='Формирование и обработка рекомендации завершены.', available_state_signals=[], available_global_signals=[], user_base_answer=None, is_userinput_locked=True)\n",
      "BAResponse(ba_text='Вы можете, при необходимости, добавить, удалить, отредактировать системное ограничение или получить рекомендацию ограничения.', available_state_signals=[], available_global_signals=[SignalInfo(signal=<WeakGlobalSignal.next_stage: 0>, shortcut='Перейти на следующую стадию', description=None)], user_base_answer=None, is_userinput_locked=True)\n",
      "UserResponse(user_text=None, signal=<WeakGlobalSignal.next_stage: 0>)\n",
      "BAResponse(ba_text='Добавление системных ограничений завершено.', available_state_signals=[], available_global_signals=[], user_base_answer=None, is_userinput_locked=True)\n"
     ]
    }
   ],
   "source": [
    "cur_status = WeakReasonerStatus.waiting_interaction\n",
    "while True:\n",
    "    sleep(1)\n",
    "    if cur_status == WeakReasonerStatus.waiting_interaction:\n",
    "        ba_response, cur_status, done_state = srest_comm.prepare_response()\n",
    "        print(ba_response)\n",
    "\n",
    "    elif cur_status == WeakReasonerStatus.waiting_response:\n",
    "        user_text = input()\n",
    "        user_response = UserResponse()\n",
    "        if user_text == \"BREAK\":\n",
    "            user_response.signal = WeakGlobalSignal.next_stage\n",
    "        elif user_text == 'RECOMM':\n",
    "            user_response.signal = WeakStateSignal.recommend_new\n",
    "        elif user_text == 'DELETE':\n",
    "            user_response.signal = WeakStateSignal.delete\n",
    "        elif user_text == 'CANCEL':\n",
    "            user_response.signal = WeakStateSignal.cancel_operation\n",
    "        elif user_text == 'APPROVE':\n",
    "            user_response.signal = WeakStateSignal.approve\n",
    "        elif user_text == 'DECLINE':\n",
    "            user_response.signal = WeakStateSignal.decline\n",
    "        elif user_text == 'ADD':\n",
    "            user_response.signal = WeakStateSignal.add\n",
    "        elif user_text == 'EDIT':\n",
    "            user_response.signal = WeakStateSignal.edit\n",
    "        else:\n",
    "            user_response.user_text = user_text\n",
    "        print(user_response)\n",
    "        srest_comm.process_response(user_response)\n",
    "        cur_status = WeakReasonerStatus.waiting_interaction\n",
    "\n",
    "    elif cur_status == WeakReasonerStatus.done:\n",
    "        break\n",
    "    else:\n",
    "        raise ValueError"
   ]
  },
  {
   "cell_type": "code",
   "execution_count": 7,
   "id": "3ca30fcf",
   "metadata": {},
   "outputs": [
    {
     "name": "stdout",
     "output_type": "stream",
     "text": [
      "{'1': SystemRestriction(id='1',\n",
      "                        statement='Системное ограничение #1',\n",
      "                        related_sreq_ids=set(),\n",
      "                        related_userstory_ids=set(),\n",
      "                        related_scenarios_ids=set()),\n",
      " '2': SystemRestriction(id='2',\n",
      "                        statement='Системное ограничение #2',\n",
      "                        related_sreq_ids=set(),\n",
      "                        related_userstory_ids=set(),\n",
      "                        related_scenarios_ids=set()),\n",
      " '28246': SystemRestriction(id='28246',\n",
      "                            statement=\"Системное ограничение 'Заглушка'\",\n",
      "                            related_sreq_ids={'1'},\n",
      "                            related_userstory_ids=set(),\n",
      "                            related_scenarios_ids=set()),\n",
      " '3': SystemRestriction(id='3',\n",
      "                        statement='Системное ограничение #3',\n",
      "                        related_sreq_ids=set(),\n",
      "                        related_userstory_ids=set(),\n",
      "                        related_scenarios_ids=set())}\n"
     ]
    }
   ],
   "source": [
    "pprint(reqspec_model.specification_struct.system_info.restrictions)"
   ]
  },
  {
   "cell_type": "code",
   "execution_count": 8,
   "id": "2314cbf1",
   "metadata": {},
   "outputs": [
    {
     "name": "stdout",
     "output_type": "stream",
     "text": [
      "defaultdict(<class 'list'>,\n",
      "            {'3': [SystemRestriction(id='f4b55',\n",
      "                                     statement='Системное ограничение '\n",
      "                                               \"'Заглушка'\",\n",
      "                                     related_sreq_ids={'3'},\n",
      "                                     related_userstory_ids=set(),\n",
      "                                     related_scenarios_ids=set())]})\n"
     ]
    }
   ],
   "source": [
    "pprint(reqspec_model.states_valuable_history[WeakReasonerState.sysrestr_ccrud]['declined_srestrs'])"
   ]
  }
 ],
 "metadata": {
  "kernelspec": {
   "display_name": "baai_env",
   "language": "python",
   "name": "python3"
  },
  "language_info": {
   "codemirror_mode": {
    "name": "ipython",
    "version": 3
   },
   "file_extension": ".py",
   "mimetype": "text/x-python",
   "name": "python",
   "nbconvert_exporter": "python",
   "pygments_lexer": "ipython3",
   "version": "3.13.5"
  }
 },
 "nbformat": 4,
 "nbformat_minor": 5
}
